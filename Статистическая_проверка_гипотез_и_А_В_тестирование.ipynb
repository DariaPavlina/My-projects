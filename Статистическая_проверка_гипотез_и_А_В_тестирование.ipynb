{
  "nbformat": 4,
  "nbformat_minor": 0,
  "metadata": {
    "colab": {
      "name": "Статистическая проверка гипотез и А/В тестирование",
      "provenance": [],
      "collapsed_sections": []
    },
    "kernelspec": {
      "name": "python3",
      "display_name": "Python 3"
    },
    "language_info": {
      "name": "python"
    }
  },
  "cells": [
    {
      "cell_type": "markdown",
      "source": [
        "Задание № 1 (Обязательно) Вам даны результаты проверки двух препаратов.\n",
        "Требуется:\n",
        "\n",
        "Оценить, есть ли различие в эффекте у этих пациентов?\n",
        "Визуально подтвердить результат\n",
        "\n",
        "A - результаты для группы людей получающих препарат А.\n",
        "\n",
        "B - результаты для другой группы людей, получающих препарат B."
      ],
      "metadata": {
        "id": "ZeCYLNoEvfuA"
      }
    },
    {
      "cell_type": "code",
      "source": [
        "import numpy as np\n",
        "import pandas as pd\n",
        "import scipy.stats as stats \n",
        "import matplotlib.pyplot as plt\n",
        "import seaborn as sns"
      ],
      "metadata": {
        "id": "8hXEmD1zvnbg"
      },
      "execution_count": null,
      "outputs": []
    },
    {
      "cell_type": "code",
      "source": [
        "np.random.seed(11)\n",
        "A = stats.norm.rvs(scale=30, loc=11, size=100)\n",
        "B = A + stats.norm.rvs(scale=54, loc=11, size=100)\n"
      ],
      "metadata": {
        "id": "j9pabvw7vhzc"
      },
      "execution_count": null,
      "outputs": []
    },
    {
      "cell_type": "code",
      "source": [
        "# Н0: различие в эффекте применения препаратов случайно, то есть средние значения двух ГС, из которых извлечены выборки, не отличаются\n",
        "\n",
        "# Проверим условия для выбора критерия\n",
        "\n",
        "# 1. распределение нормальное\n",
        "# 2. выборки независимые\n",
        "# 3. проверим равенство дисперсий по критерию Фишера (Н0: дисперсии равны)\n",
        "\n",
        "F = np.var(B)/np.var(A)\n",
        "# cdf (функция распределения) - передаем значение оценки, получаем вероятноть (уровень доверия), pdf (фукнкция плотности распределения) - передаем вероятность (уровень доверия), получаем значение оценки\n",
        "# по таблице критических значений Фишера нашли ближайшую вероятность и вычли ее из 1, таким образом нашли вероятность того, что значение F будет такое же или правее (p_value) при условии, что Н0 верна\n",
        "p_value = 1 -stats.f.cdf(F, len(A)-1, len(B)-1) \n",
        "p_value\n",
        "# Н0 отклоняем, предполагаем на 5% уровне значимости, что дисперсии не равны\n",
        "\n",
        "# Вывод: применяем непараметрический аналог: критерий Манна-Уитни"
      ],
      "metadata": {
        "colab": {
          "base_uri": "https://localhost:8080/"
        },
        "id": "m8NK8Vp7v0Ds",
        "outputId": "4cf887a7-08a1-4c7a-c52c-5a7bb372182c"
      },
      "execution_count": null,
      "outputs": [
        {
          "output_type": "execute_result",
          "data": {
            "text/plain": [
              "2.0314860904591114e-12"
            ]
          },
          "metadata": {},
          "execution_count": 8
        }
      ]
    },
    {
      "cell_type": "code",
      "source": [
        "# Критерий Манна - Уитни\n",
        "alpha = 0.05\n",
        "from scipy.stats import mannwhitneyu\n",
        "\n",
        "stat, p_value =mannwhitneyu(A, B)\n",
        "\n",
        "if p_value < alpha:\n",
        "    print('H0 отклоняем, предполагаем, что средние отличаются, разница между лекарствами есть')\n",
        "else:\n",
        "    print('Н0 не отклоняем, предполагаем на 5% уровне значимости, что различие в эффекте применения препаратов случайно')"
      ],
      "metadata": {
        "colab": {
          "base_uri": "https://localhost:8080/"
        },
        "id": "0BLNAFUj9xaR",
        "outputId": "9d0fdeed-9e89-44fc-9912-dc95437d8109"
      },
      "execution_count": null,
      "outputs": [
        {
          "output_type": "stream",
          "name": "stdout",
          "text": [
            "Н0 не отклоняем, предполагаем на 5% уровне значимости, что различие в эффекте применения препаратов случайно\n"
          ]
        }
      ]
    },
    {
      "cell_type": "code",
      "source": [
        "plt.hist(A)\n",
        "plt.hist(B)"
      ],
      "metadata": {
        "colab": {
          "base_uri": "https://localhost:8080/",
          "height": 352
        },
        "id": "9yvU6IzQBkSa",
        "outputId": "aa551a6a-6d36-4dcc-ddbf-666d517af845"
      },
      "execution_count": null,
      "outputs": [
        {
          "output_type": "execute_result",
          "data": {
            "text/plain": [
              "(array([ 5.,  7., 13., 13., 21., 16., 11.,  8.,  3.,  3.]),\n",
              " array([-99.92486747, -73.18817253, -46.45147758, -19.71478263,\n",
              "          7.02191231,  33.75860726,  60.4953022 ,  87.23199715,\n",
              "        113.9686921 , 140.70538704, 167.44208199]),\n",
              " <a list of 10 Patch objects>)"
            ]
          },
          "metadata": {},
          "execution_count": 4
        },
        {
          "output_type": "display_data",
          "data": {
            "image/png": "[encoded data removed]",
            "text/plain": [
              "<Figure size 432x288 with 1 Axes>"
            ]
          },
          "metadata": {
            "needs_background": "light"
          }
        }
      ]
    },
    {
      "cell_type": "markdown",
      "source": [
        "Задание № 2 (Обязательно) Вам даны результаты проверки двух препаратов.\n",
        "Требуется:\n",
        "\n",
        "Оценить, есть ли различие в эффекте у этих пациентов?\n",
        "Визуально подтвердить результат\n",
        "\n",
        "А - группа людей без препарата.\n",
        "\n",
        "B - та же группа людей, но получающая препарат"
      ],
      "metadata": {
        "id": "JTKsClmeCy22"
      }
    },
    {
      "cell_type": "code",
      "source": [
        "np.random.seed(11)\n",
        "A = stats.norm.rvs(scale=30, loc=11, size=100)\n",
        "B = A + stats.norm.rvs(scale=54, loc=11, size=100)\n"
      ],
      "metadata": {
        "id": "nPICZ_QHC1re"
      },
      "execution_count": null,
      "outputs": []
    },
    {
      "cell_type": "code",
      "source": [
        "# Н0: различие в эффекте применения препаратов случайно, то есть средние значения двух связанныъ выборок равны \n",
        "\n",
        "# Проверим условия для выбора критерия\n",
        "\n",
        "# 1. распределение нормальное\n",
        "# 2. выборки связанные\n",
        "\n",
        "# Используем критерий Стъюдента для связанных выборок\n",
        "\n",
        "alpha = 0.05\n",
        "t, p_value = stats.ttest_rel(A, B)\n",
        "\n",
        "if p_value < alpha:\n",
        "    print('H0 отклоняем на уровне значимости 5%, есть статистически значимое различие в препаратах')\n",
        "else:\n",
        "    print('Н0 не отклоняем, предполагаем на 5% уровне значимости, что различие в эффекте применения препаратов случайно')\n",
        "\n"
      ],
      "metadata": {
        "colab": {
          "base_uri": "https://localhost:8080/"
        },
        "id": "1bZAjgc6EHrr",
        "outputId": "1cb14d19-c143-4cda-bedd-1e095d6106fa"
      },
      "execution_count": null,
      "outputs": [
        {
          "output_type": "stream",
          "name": "stdout",
          "text": [
            "H0 отклоняем на уровне значимости 5%, есть статистически значимое различие в препаратах\n"
          ]
        }
      ]
    },
    {
      "cell_type": "code",
      "source": [
        "plt.hist(A)\n",
        "plt.hist(B)"
      ],
      "metadata": {
        "colab": {
          "base_uri": "https://localhost:8080/",
          "height": 352
        },
        "id": "y3hUfFe-FZAc",
        "outputId": "4ec0666c-18ce-459d-db9a-536de5f031d2"
      },
      "execution_count": null,
      "outputs": [
        {
          "output_type": "execute_result",
          "data": {
            "text/plain": [
              "(array([ 5.,  7., 13., 13., 21., 16., 11.,  8.,  3.,  3.]),\n",
              " array([-99.92486747, -73.18817253, -46.45147758, -19.71478263,\n",
              "          7.02191231,  33.75860726,  60.4953022 ,  87.23199715,\n",
              "        113.9686921 , 140.70538704, 167.44208199]),\n",
              " <a list of 10 Patch objects>)"
            ]
          },
          "metadata": {},
          "execution_count": 16
        },
        {
          "output_type": "display_data",
          "data": {
            "image/png": "[encoded data removed]",
            "text/plain": [
              "<Figure size 432x288 with 1 Axes>"
            ]
          },
          "metadata": {
            "needs_background": "light"
          }
        }
      ]
    },
    {
      "cell_type": "markdown",
      "source": [
        "Задание № 3 (Обязательно)\n",
        " Допустим вы решили устроить дачный эксперимент. Берем и поливаем одни огурцы водой, другие огурцы водой с удобнением, третью группу огурцов будем поливать минералкой.\n",
        "\n",
        "Используя дисперсионный анализ, сделайте выводы о распредлениях результатов. \n",
        "\n",
        "Есть ли эффект от удобрения по сравнению с минералкой?\n",
        "\n",
        "Помимо результата статистического теста, продемонстрируйте отличия визуально с помощью boxplot или hist"
      ],
      "metadata": {
        "id": "ufUGsp26FVmD"
      }
    },
    {
      "cell_type": "code",
      "source": [
        "water = [1,2,3,4,2,4,2,4,5,2,3,4,2,1,3,4,3,2,5,1]\n",
        "nutri = [1,2,4,6,5,6,7,5,4,5,6,7,4,3,5,5,6,5,4,3,5]\n",
        "mineral =[2,1,1,3,2,4,2,4,5,4,3,2,3,2,3,1,3,4,5,1,4]\n"
      ],
      "metadata": {
        "id": "9Y5c784cFt_N"
      },
      "execution_count": null,
      "outputs": []
    },
    {
      "cell_type": "code",
      "source": [
        "# Предположим, что речь идет о весе огурцов в кг. Получается, что необходимо оценить, как зависит размер огурцов от способа удобрения (вода, удобрение, минералка).\n",
        "# Имеем три выборки, Н0: средние значения всех групп равны, то есть эффект от способа удобрения случаен\n",
        "\n",
        "# Проверяем органичения применения однофакторный дисперсионный анализ\n",
        "# 1. выборки независимые\n",
        "# 2. одинаковые дисперсии в выборках. Проверим с помощью теста Левене (H0: дисперсии выборок равны). Н0 принимаем на 5% уровне значимости\n",
        "# 3. общее кол-во наблюдений > 30, кол-во наблюдений в каждой выборке > 5\n",
        "\n",
        "stats.levene(water, nutri, mineral)"
      ],
      "metadata": {
        "colab": {
          "base_uri": "https://localhost:8080/"
        },
        "id": "-QNoiJBzFyf1",
        "outputId": "9da941e3-654d-413d-a4c0-2dd109613877"
      },
      "execution_count": null,
      "outputs": [
        {
          "output_type": "execute_result",
          "data": {
            "text/plain": [
              "LeveneResult(statistic=0.02026693420999462, pvalue=0.9799438787333941)"
            ]
          },
          "metadata": {},
          "execution_count": 18
        }
      ]
    },
    {
      "cell_type": "code",
      "source": [
        "# Применяем ANOVA\n",
        "\n",
        "alpha = 0.05\n",
        "f_value, p_value = stats.f_oneway(water, nutri, mineral)\n",
        "\n",
        "if p_value<alpha:\n",
        "    print('H0 отклоняем на 5% уровне значимости, вес огурцов зависит от способа удобрения (однако не знаем, какого именно)')\n",
        "else:\n",
        "    print('Н0 принимаем, эффект от способа удобрения случаен')\n"
      ],
      "metadata": {
        "colab": {
          "base_uri": "https://localhost:8080/"
        },
        "id": "Wvg8ByaXJiAy",
        "outputId": "ea8bc2bb-0b69-43e6-cd87-15cbd5c814b1"
      },
      "execution_count": null,
      "outputs": [
        {
          "output_type": "stream",
          "name": "stdout",
          "text": [
            "H0 отклоняем на 5% уровне значимости, вес огурцов зависит от способа удобрения (однако не знаем, какого именно)\n"
          ]
        }
      ]
    },
    {
      "cell_type": "code",
      "source": [
        "plt.hist(water, color = 'blue')\n",
        "plt.hist(nutri, color = 'red')\n",
        "plt.hist(mineral, color = 'green')"
      ],
      "metadata": {
        "id": "kez8m3P6LG46",
        "colab": {
          "base_uri": "https://localhost:8080/",
          "height": 317
        },
        "outputId": "1efc020e-d66c-48e1-a0f3-45dde152109a"
      },
      "execution_count": null,
      "outputs": [
        {
          "output_type": "execute_result",
          "data": {
            "text/plain": [
              "(array([4., 0., 5., 0., 0., 5., 0., 5., 0., 2.]),\n",
              " array([1. , 1.4, 1.8, 2.2, 2.6, 3. , 3.4, 3.8, 4.2, 4.6, 5. ]),\n",
              " <a list of 10 Patch objects>)"
            ]
          },
          "metadata": {},
          "execution_count": 26
        },
        {
          "output_type": "display_data",
          "data": {
            "image/png": "[encoded data removed]",
            "text/plain": [
              "<Figure size 432x288 with 1 Axes>"
            ]
          },
          "metadata": {
            "needs_background": "light"
          }
        }
      ]
    },
    {
      "cell_type": "code",
      "source": [
        "# преобразуем данные для построения boxplot\n",
        "\n",
        "weight = water + nutri + mineral\n",
        "kinds = ['water']*len(water) + ['nutri']*len(nutri) + ['mineral']*len(mineral)\n",
        "df = pd.DataFrame()\n",
        "df['weight'] = weight\n",
        "df['kinds'] = kinds\n",
        "df"
      ],
      "metadata": {
        "colab": {
          "base_uri": "https://localhost:8080/",
          "height": 424
        },
        "id": "4DWJENo-NQM_",
        "outputId": "87e1528b-7468-40c6-f59f-a7249151da9d"
      },
      "execution_count": null,
      "outputs": [
        {
          "output_type": "execute_result",
          "data": {
            "text/html": [
              "\n",
              "  <div id=\"df-35471eaf-530a-4703-a088-3ffb10660842\">\n",
              "    <div class=\"colab-df-container\">\n",
              "      <div>\n",
              "<style scoped>\n",
              "    .dataframe tbody tr th:only-of-type {\n",
              "        vertical-align: middle;\n",
              "    }\n",
              "\n",
              "    .dataframe tbody tr th {\n",
              "        vertical-align: top;\n",
              "    }\n",
              "\n",
              "    .dataframe thead th {\n",
              "        text-align: right;\n",
              "    }\n",
              "</style>\n",
              "<table border=\"1\" class=\"dataframe\">\n",
              "  <thead>\n",
              "    <tr style=\"text-align: right;\">\n",
              "      <th></th>\n",
              "      <th>weight</th>\n",
              "      <th>kinds</th>\n",
              "    </tr>\n",
              "  </thead>\n",
              "  <tbody>\n",
              "    <tr>\n",
              "      <th>0</th>\n",
              "      <td>1</td>\n",
              "      <td>water</td>\n",
              "    </tr>\n",
              "    <tr>\n",
              "      <th>1</th>\n",
              "      <td>2</td>\n",
              "      <td>water</td>\n",
              "    </tr>\n",
              "    <tr>\n",
              "      <th>2</th>\n",
              "      <td>3</td>\n",
              "      <td>water</td>\n",
              "    </tr>\n",
              "    <tr>\n",
              "      <th>3</th>\n",
              "      <td>4</td>\n",
              "      <td>water</td>\n",
              "    </tr>\n",
              "    <tr>\n",
              "      <th>4</th>\n",
              "      <td>2</td>\n",
              "      <td>water</td>\n",
              "    </tr>\n",
              "    <tr>\n",
              "      <th>...</th>\n",
              "      <td>...</td>\n",
              "      <td>...</td>\n",
              "    </tr>\n",
              "    <tr>\n",
              "      <th>57</th>\n",
              "      <td>3</td>\n",
              "      <td>mineral</td>\n",
              "    </tr>\n",
              "    <tr>\n",
              "      <th>58</th>\n",
              "      <td>4</td>\n",
              "      <td>mineral</td>\n",
              "    </tr>\n",
              "    <tr>\n",
              "      <th>59</th>\n",
              "      <td>5</td>\n",
              "      <td>mineral</td>\n",
              "    </tr>\n",
              "    <tr>\n",
              "      <th>60</th>\n",
              "      <td>1</td>\n",
              "      <td>mineral</td>\n",
              "    </tr>\n",
              "    <tr>\n",
              "      <th>61</th>\n",
              "      <td>4</td>\n",
              "      <td>mineral</td>\n",
              "    </tr>\n",
              "  </tbody>\n",
              "</table>\n",
              "<p>62 rows × 2 columns</p>\n",
              "</div>\n",
              "      <button class=\"colab-df-convert\" onclick=\"convertToInteractive('df-35471eaf-530a-4703-a088-3ffb10660842')\"\n",
              "              title=\"Convert this dataframe to an interactive table.\"\n",
              "              style=\"display:none;\">\n",
              "        \n",
              "  <svg xmlns=\"http://www.w3.org/2000/svg\" height=\"24px\"viewBox=\"0 0 24 24\"\n",
              "       width=\"24px\">\n",
              "    <path d=\"M0 0h24v24H0V0z\" fill=\"none\"/>\n",
              "    <path d=\"M18.56 5.44l.94 2.06.94-2.06 2.06-.94-2.06-.94-.94-2.06-.94 2.06-2.06.94zm-11 1L8.5 8.5l.94-2.06 2.06-.94-2.06-.94L8.5 2.5l-.94 2.06-2.06.94zm10 10l.94 2.06.94-2.06 2.06-.94-2.06-.94-.94-2.06-.94 2.06-2.06.94z\"/><path d=\"M17.41 7.96l-1.37-1.37c-.4-.4-.92-.59-1.43-.59-.52 0-1.04.2-1.43.59L10.3 9.45l-7.72 7.72c-.78.78-.78 2.05 0 2.83L4 21.41c.39.39.9.59 1.41.59.51 0 1.02-.2 1.41-.59l7.78-7.78 2.81-2.81c.8-.78.8-2.07 0-2.86zM5.41 20L4 18.59l7.72-7.72 1.47 1.35L5.41 20z\"/>\n",
              "  </svg>\n",
              "      </button>\n",
              "      \n",
              "  <style>\n",
              "    .colab-df-container {\n",
              "      display:flex;\n",
              "      flex-wrap:wrap;\n",
              "      gap: 12px;\n",
              "    }\n",
              "\n",
              "    .colab-df-convert {\n",
              "      background-color: #E8F0FE;\n",
              "      border: none;\n",
              "      border-radius: 50%;\n",
              "      cursor: pointer;\n",
              "      display: none;\n",
              "      fill: #1967D2;\n",
              "      height: 32px;\n",
              "      padding: 0 0 0 0;\n",
              "      width: 32px;\n",
              "    }\n",
              "\n",
              "    .colab-df-convert:hover {\n",
              "      background-color: #E2EBFA;\n",
              "      box-shadow: 0px 1px 2px rgba(60, 64, 67, 0.3), 0px 1px 3px 1px rgba(60, 64, 67, 0.15);\n",
              "      fill: #174EA6;\n",
              "    }\n",
              "\n",
              "    [theme=dark] .colab-df-convert {\n",
              "      background-color: #3B4455;\n",
              "      fill: #D2E3FC;\n",
              "    }\n",
              "\n",
              "    [theme=dark] .colab-df-convert:hover {\n",
              "      background-color: #434B5C;\n",
              "      box-shadow: 0px 1px 3px 1px rgba(0, 0, 0, 0.15);\n",
              "      filter: drop-shadow(0px 1px 2px rgba(0, 0, 0, 0.3));\n",
              "      fill: #FFFFFF;\n",
              "    }\n",
              "  </style>\n",
              "\n",
              "      <script>\n",
              "        const buttonEl =\n",
              "          document.querySelector('#df-35471eaf-530a-4703-a088-3ffb10660842 button.colab-df-convert');\n",
              "        buttonEl.style.display =\n",
              "          google.colab.kernel.accessAllowed ? 'block' : 'none';\n",
              "\n",
              "        async function convertToInteractive(key) {\n",
              "          const element = document.querySelector('#df-35471eaf-530a-4703-a088-3ffb10660842');\n",
              "          const dataTable =\n",
              "            await google.colab.kernel.invokeFunction('convertToInteractive',\n",
              "                                                     [key], {});\n",
              "          if (!dataTable) return;\n",
              "\n",
              "          const docLinkHtml = 'Like what you see? Visit the ' +\n",
              "            '<a target=\"_blank\" href=https://colab.research.google.com/notebooks/data_table.ipynb>data table notebook</a>'\n",
              "            + ' to learn more about interactive tables.';\n",
              "          element.innerHTML = '';\n",
              "          dataTable['output_type'] = 'display_data';\n",
              "          await google.colab.output.renderOutput(dataTable, element);\n",
              "          const docLink = document.createElement('div');\n",
              "          docLink.innerHTML = docLinkHtml;\n",
              "          element.appendChild(docLink);\n",
              "        }\n",
              "      </script>\n",
              "    </div>\n",
              "  </div>\n",
              "  "
            ],
            "text/plain": [
              "    weight    kinds\n",
              "0        1    water\n",
              "1        2    water\n",
              "2        3    water\n",
              "3        4    water\n",
              "4        2    water\n",
              "..     ...      ...\n",
              "57       3  mineral\n",
              "58       4  mineral\n",
              "59       5  mineral\n",
              "60       1  mineral\n",
              "61       4  mineral\n",
              "\n",
              "[62 rows x 2 columns]"
            ]
          },
          "metadata": {},
          "execution_count": 31
        }
      ]
    },
    {
      "cell_type": "code",
      "source": [
        "ax = sns.boxplot(x ='kinds', y = 'weight', data = df )\n",
        "# видно, что группы water и mineral примерно равны, а nutri сильно отличается, это и показал ANOVA, что группы отличаются"
      ],
      "metadata": {
        "colab": {
          "base_uri": "https://localhost:8080/",
          "height": 279
        },
        "id": "fm4J6_7BOl-t",
        "outputId": "f2559027-6a84-4265-ca03-710ff6ec80ca"
      },
      "execution_count": null,
      "outputs": [
        {
          "output_type": "display_data",
          "data": {
            "image/png": "[encoded data removed]",
            "text/plain": [
              "<Figure size 432x288 with 1 Axes>"
            ]
          },
          "metadata": {
            "needs_background": "light"
          }
        }
      ]
    },
    {
      "cell_type": "code",
      "source": [
        "# Чтобы статистически проверить между какими группами есть отличия, проверим статистические отличие между средними с помощью t-критерия Стъюдента с поправкой Бонферрони (alpha/кол-во пар для сравнения)\n",
        "alpha = 0.05/3 \n",
        "stat_1, p_value_1 = stats.ttest_ind(water, nutri)\n",
        "stat_2, p_value_2 = stats.ttest_ind(water, mineral)\n",
        "stat_3, p_value_3 = stats.ttest_ind(nutri, mineral)\n",
        "\n",
        "if p_value_1 < alpha:\n",
        "    print('H0 отклоняем, есть отличия между водой и удобрением')\n",
        "else:\n",
        "    print('H0 принимаем, нет отличий между водой и удобрением')\n"
      ],
      "metadata": {
        "colab": {
          "base_uri": "https://localhost:8080/"
        },
        "id": "qyVBnUAzO-Rr",
        "outputId": "054b6e1b-420d-458b-f3e4-86498733ec72"
      },
      "execution_count": null,
      "outputs": [
        {
          "output_type": "stream",
          "name": "stdout",
          "text": [
            "H0 отклоняем, есть отличия между водой и удобрением\n"
          ]
        }
      ]
    },
    {
      "cell_type": "code",
      "source": [
        "if p_value_2 < alpha:\n",
        "    print('H0 отклоняем, есть отличия между водой и минералкой')\n",
        "else:\n",
        "    print('H0 принимаем, нет отличий между водой и минералкой')"
      ],
      "metadata": {
        "colab": {
          "base_uri": "https://localhost:8080/"
        },
        "id": "Au0YqRTmRH-t",
        "outputId": "e78d4cae-f476-4945-ca76-1fbba6cd2bed"
      },
      "execution_count": null,
      "outputs": [
        {
          "output_type": "stream",
          "name": "stdout",
          "text": [
            "H0 принимаем, нет отличий между водой и минералкой\n"
          ]
        }
      ]
    },
    {
      "cell_type": "code",
      "source": [
        "if p_value_3 < alpha:\n",
        "    print('H0 отклоняем, есть отличия между удобрением и минералкой')\n",
        "else:\n",
        "    print('H0 принимаем, нет отличий между удобрением и минералкой')"
      ],
      "metadata": {
        "colab": {
          "base_uri": "https://localhost:8080/"
        },
        "id": "0bgJ9MXqRDeW",
        "outputId": "5e207d6a-0606-4e2a-a36e-15e0e4bdb79e"
      },
      "execution_count": null,
      "outputs": [
        {
          "output_type": "stream",
          "name": "stdout",
          "text": [
            "H0 отклоняем, есть отличия между удобрением и минералкой\n"
          ]
        }
      ]
    },
    {
      "cell_type": "markdown",
      "source": [
        "# Cookie Cats (Обязательно)\n",
        "\n",
        "Cookie Cats - чрезвычайно популярная мобильная игра-головоломка, разработанная Tactile Entertainment. Это классическая игра-головоломка в стиле «соедините три», в которой игрок должен соединять плитки одного цвета, чтобы очистить поле и выиграть уровень. Здесь также есть поющие кошки. Посмотрите эту короткую демонстрацию:"
      ],
      "metadata": {
        "id": "cAcp_6Tz8b__"
      }
    },
    {
      "cell_type": "markdown",
      "source": [
        "По мере прохождения уровней игры игроки время от времени сталкиваются с воротами, которые заставляют их ждать нетривиальное количество времени или совершать покупки в приложении, чтобы продолжить. Помимо стимулирования покупок в приложении, эти ворота служат важной цели - дать игрокам вынужденный перерыв в игре, что, как мы надеемся, приведет к увеличению и продлению удовольствия от игры.\n",
        "\n",
        "Но где ставить ворота? Первоначально первые ворота были размещены на уровне 30. В этом проекте вам предлагается проанализировать AB-тест, в котором создатели переместили первые ворота в Cookie Cats с 30 уровня на уровень 40. В частности, вам надо рассмотрим влияние A/B теста на удержание игроков."
      ],
      "metadata": {
        "id": "qxX8NmvV8g_n"
      }
    },
    {
      "cell_type": "markdown",
      "source": [
        "# Данные A/B тестирования"
      ],
      "metadata": {
        "id": "AGtbrTFm8kRo"
      }
    },
    {
      "cell_type": "code",
      "source": [
        "cookie_cats = 'https://raw.githubusercontent.com/a-milenkin/datasets_for_t-tests/main/cookie_cats.csv'\n",
        "\n",
        "data = pd.read_csv(cookie_cats, error_bad_lines=False)  # Откроем датасет\n",
        "data.head()"
      ],
      "metadata": {
        "colab": {
          "base_uri": "https://localhost:8080/",
          "height": 296
        },
        "id": "bu7JPmlZ8oW1",
        "outputId": "c6eafff8-f7e4-40d4-d82f-264b68a9439d"
      },
      "execution_count": null,
      "outputs": [
        {
          "output_type": "stream",
          "name": "stderr",
          "text": [
            "/usr/local/lib/python3.7/dist-packages/IPython/core/interactiveshell.py:2882: FutureWarning: The error_bad_lines argument has been deprecated and will be removed in a future version.\n",
            "\n",
            "\n",
            "  exec(code_obj, self.user_global_ns, self.user_ns)\n"
          ]
        },
        {
          "output_type": "execute_result",
          "data": {
            "text/html": [
              "\n",
              "  <div id=\"df-385d5c25-e264-41ec-a565-400c35682819\">\n",
              "    <div class=\"colab-df-container\">\n",
              "      <div>\n",
              "<style scoped>\n",
              "    .dataframe tbody tr th:only-of-type {\n",
              "        vertical-align: middle;\n",
              "    }\n",
              "\n",
              "    .dataframe tbody tr th {\n",
              "        vertical-align: top;\n",
              "    }\n",
              "\n",
              "    .dataframe thead th {\n",
              "        text-align: right;\n",
              "    }\n",
              "</style>\n",
              "<table border=\"1\" class=\"dataframe\">\n",
              "  <thead>\n",
              "    <tr style=\"text-align: right;\">\n",
              "      <th></th>\n",
              "      <th>userid</th>\n",
              "      <th>version</th>\n",
              "      <th>sum_gamerounds</th>\n",
              "      <th>retention_1</th>\n",
              "      <th>retention_7</th>\n",
              "    </tr>\n",
              "  </thead>\n",
              "  <tbody>\n",
              "    <tr>\n",
              "      <th>0</th>\n",
              "      <td>116</td>\n",
              "      <td>gate_30</td>\n",
              "      <td>3</td>\n",
              "      <td>False</td>\n",
              "      <td>False</td>\n",
              "    </tr>\n",
              "    <tr>\n",
              "      <th>1</th>\n",
              "      <td>337</td>\n",
              "      <td>gate_30</td>\n",
              "      <td>38</td>\n",
              "      <td>True</td>\n",
              "      <td>False</td>\n",
              "    </tr>\n",
              "    <tr>\n",
              "      <th>2</th>\n",
              "      <td>377</td>\n",
              "      <td>gate_40</td>\n",
              "      <td>165</td>\n",
              "      <td>True</td>\n",
              "      <td>False</td>\n",
              "    </tr>\n",
              "    <tr>\n",
              "      <th>3</th>\n",
              "      <td>483</td>\n",
              "      <td>gate_40</td>\n",
              "      <td>1</td>\n",
              "      <td>False</td>\n",
              "      <td>False</td>\n",
              "    </tr>\n",
              "    <tr>\n",
              "      <th>4</th>\n",
              "      <td>488</td>\n",
              "      <td>gate_40</td>\n",
              "      <td>179</td>\n",
              "      <td>True</td>\n",
              "      <td>True</td>\n",
              "    </tr>\n",
              "  </tbody>\n",
              "</table>\n",
              "</div>\n",
              "      <button class=\"colab-df-convert\" onclick=\"convertToInteractive('df-385d5c25-e264-41ec-a565-400c35682819')\"\n",
              "              title=\"Convert this dataframe to an interactive table.\"\n",
              "              style=\"display:none;\">\n",
              "        \n",
              "  <svg xmlns=\"http://www.w3.org/2000/svg\" height=\"24px\"viewBox=\"0 0 24 24\"\n",
              "       width=\"24px\">\n",
              "    <path d=\"M0 0h24v24H0V0z\" fill=\"none\"/>\n",
              "    <path d=\"M18.56 5.44l.94 2.06.94-2.06 2.06-.94-2.06-.94-.94-2.06-.94 2.06-2.06.94zm-11 1L8.5 8.5l.94-2.06 2.06-.94-2.06-.94L8.5 2.5l-.94 2.06-2.06.94zm10 10l.94 2.06.94-2.06 2.06-.94-2.06-.94-.94-2.06-.94 2.06-2.06.94z\"/><path d=\"M17.41 7.96l-1.37-1.37c-.4-.4-.92-.59-1.43-.59-.52 0-1.04.2-1.43.59L10.3 9.45l-7.72 7.72c-.78.78-.78 2.05 0 2.83L4 21.41c.39.39.9.59 1.41.59.51 0 1.02-.2 1.41-.59l7.78-7.78 2.81-2.81c.8-.78.8-2.07 0-2.86zM5.41 20L4 18.59l7.72-7.72 1.47 1.35L5.41 20z\"/>\n",
              "  </svg>\n",
              "      </button>\n",
              "      \n",
              "  <style>\n",
              "    .colab-df-container {\n",
              "      display:flex;\n",
              "      flex-wrap:wrap;\n",
              "      gap: 12px;\n",
              "    }\n",
              "\n",
              "    .colab-df-convert {\n",
              "      background-color: #E8F0FE;\n",
              "      border: none;\n",
              "      border-radius: 50%;\n",
              "      cursor: pointer;\n",
              "      display: none;\n",
              "      fill: #1967D2;\n",
              "      height: 32px;\n",
              "      padding: 0 0 0 0;\n",
              "      width: 32px;\n",
              "    }\n",
              "\n",
              "    .colab-df-convert:hover {\n",
              "      background-color: #E2EBFA;\n",
              "      box-shadow: 0px 1px 2px rgba(60, 64, 67, 0.3), 0px 1px 3px 1px rgba(60, 64, 67, 0.15);\n",
              "      fill: #174EA6;\n",
              "    }\n",
              "\n",
              "    [theme=dark] .colab-df-convert {\n",
              "      background-color: #3B4455;\n",
              "      fill: #D2E3FC;\n",
              "    }\n",
              "\n",
              "    [theme=dark] .colab-df-convert:hover {\n",
              "      background-color: #434B5C;\n",
              "      box-shadow: 0px 1px 3px 1px rgba(0, 0, 0, 0.15);\n",
              "      filter: drop-shadow(0px 1px 2px rgba(0, 0, 0, 0.3));\n",
              "      fill: #FFFFFF;\n",
              "    }\n",
              "  </style>\n",
              "\n",
              "      <script>\n",
              "        const buttonEl =\n",
              "          document.querySelector('#df-385d5c25-e264-41ec-a565-400c35682819 button.colab-df-convert');\n",
              "        buttonEl.style.display =\n",
              "          google.colab.kernel.accessAllowed ? 'block' : 'none';\n",
              "\n",
              "        async function convertToInteractive(key) {\n",
              "          const element = document.querySelector('#df-385d5c25-e264-41ec-a565-400c35682819');\n",
              "          const dataTable =\n",
              "            await google.colab.kernel.invokeFunction('convertToInteractive',\n",
              "                                                     [key], {});\n",
              "          if (!dataTable) return;\n",
              "\n",
              "          const docLinkHtml = 'Like what you see? Visit the ' +\n",
              "            '<a target=\"_blank\" href=https://colab.research.google.com/notebooks/data_table.ipynb>data table notebook</a>'\n",
              "            + ' to learn more about interactive tables.';\n",
              "          element.innerHTML = '';\n",
              "          dataTable['output_type'] = 'display_data';\n",
              "          await google.colab.output.renderOutput(dataTable, element);\n",
              "          const docLink = document.createElement('div');\n",
              "          docLink.innerHTML = docLinkHtml;\n",
              "          element.appendChild(docLink);\n",
              "        }\n",
              "      </script>\n",
              "    </div>\n",
              "  </div>\n",
              "  "
            ],
            "text/plain": [
              "   userid  version  sum_gamerounds  retention_1  retention_7\n",
              "0     116  gate_30               3        False        False\n",
              "1     337  gate_30              38         True        False\n",
              "2     377  gate_40             165         True        False\n",
              "3     483  gate_40               1        False        False\n",
              "4     488  gate_40             179         True         True"
            ]
          },
          "metadata": {},
          "execution_count": 3
        }
      ]
    },
    {
      "cell_type": "markdown",
      "source": [
        "**Данные получены от 90 189 игроков, которые установили игру во время проведения AB-теста.**\n",
        "\n",
        "Переменные:\n",
        "\n",
        "userid - уникальный номер, идентифицирующий каждого игрока.\n",
        "\n",
        "version - был ли игрок помещен в контрольную группу (gate_30 - ворота на уровне 30) или в тестовую группу (gate_40 - ворота на уровне 40).\n",
        "\n",
        "sum_gamerounds - количество игровых раундов, сыгранных игроком в течение первой недели после установки\n",
        "\n",
        "retention_1 - проигрыватель вернулся и поиграл через 1 день после установки?\n",
        "\n",
        "retention_7 - проигрыватель вернулся и играл через 7 дней после установки?\n",
        "\n",
        "Когда игрок устанавливал игру, ему случайным образом назначали gate_30 или gate_40.\n",
        "\n",
        "\n",
        "\n"
      ],
      "metadata": {
        "id": "SFodumiq83fm"
      }
    },
    {
      "cell_type": "markdown",
      "source": [
        "**Задание: провести анализ данных и сделать выводы о лучшем месте для установки ворот.**\n",
        "\n",
        "Замечание: приведенных вспомогательных фрагментов кода не хватает для ответа на вопрос.\n",
        " Делать выводы необходимо опираясь на статистические тесты, разобранные в лекции. Большим плюсом будет построение визуализиции для подтверждения ваших выводом. Рекомендую использовать seaborn c его sns.boxplot/sns.carplot, sns.barplot, но можно обойтись и обычном matplotlib"
      ],
      "metadata": {
        "id": "H_6RafvH9LCX"
      }
    },
    {
      "cell_type": "code",
      "source": [
        "#Сгрупируем результаты теста по версиям игры.\n",
        "data.groupby('version').count()\n",
        "\n",
        "# по результатам данной команды можно сказать, что размеры контрольной и тестовой групп примерно одинаковые (50/50)"
      ],
      "metadata": {
        "colab": {
          "base_uri": "https://localhost:8080/",
          "height": 143
        },
        "id": "CtlY5vCg9VPZ",
        "outputId": "a226e42b-5f95-401c-d73a-05084bfe4d17"
      },
      "execution_count": null,
      "outputs": [
        {
          "output_type": "execute_result",
          "data": {
            "text/html": [
              "\n",
              "  <div id=\"df-1ab33e50-0840-4558-b16b-749f1167901b\">\n",
              "    <div class=\"colab-df-container\">\n",
              "      <div>\n",
              "<style scoped>\n",
              "    .dataframe tbody tr th:only-of-type {\n",
              "        vertical-align: middle;\n",
              "    }\n",
              "\n",
              "    .dataframe tbody tr th {\n",
              "        vertical-align: top;\n",
              "    }\n",
              "\n",
              "    .dataframe thead th {\n",
              "        text-align: right;\n",
              "    }\n",
              "</style>\n",
              "<table border=\"1\" class=\"dataframe\">\n",
              "  <thead>\n",
              "    <tr style=\"text-align: right;\">\n",
              "      <th></th>\n",
              "      <th>userid</th>\n",
              "      <th>sum_gamerounds</th>\n",
              "      <th>retention_1</th>\n",
              "      <th>retention_7</th>\n",
              "    </tr>\n",
              "    <tr>\n",
              "      <th>version</th>\n",
              "      <th></th>\n",
              "      <th></th>\n",
              "      <th></th>\n",
              "      <th></th>\n",
              "    </tr>\n",
              "  </thead>\n",
              "  <tbody>\n",
              "    <tr>\n",
              "      <th>gate_30</th>\n",
              "      <td>40800</td>\n",
              "      <td>40800</td>\n",
              "      <td>40800</td>\n",
              "      <td>40800</td>\n",
              "    </tr>\n",
              "    <tr>\n",
              "      <th>gate_40</th>\n",
              "      <td>41562</td>\n",
              "      <td>41562</td>\n",
              "      <td>41562</td>\n",
              "      <td>41562</td>\n",
              "    </tr>\n",
              "  </tbody>\n",
              "</table>\n",
              "</div>\n",
              "      <button class=\"colab-df-convert\" onclick=\"convertToInteractive('df-1ab33e50-0840-4558-b16b-749f1167901b')\"\n",
              "              title=\"Convert this dataframe to an interactive table.\"\n",
              "              style=\"display:none;\">\n",
              "        \n",
              "  <svg xmlns=\"http://www.w3.org/2000/svg\" height=\"24px\"viewBox=\"0 0 24 24\"\n",
              "       width=\"24px\">\n",
              "    <path d=\"M0 0h24v24H0V0z\" fill=\"none\"/>\n",
              "    <path d=\"M18.56 5.44l.94 2.06.94-2.06 2.06-.94-2.06-.94-.94-2.06-.94 2.06-2.06.94zm-11 1L8.5 8.5l.94-2.06 2.06-.94-2.06-.94L8.5 2.5l-.94 2.06-2.06.94zm10 10l.94 2.06.94-2.06 2.06-.94-2.06-.94-.94-2.06-.94 2.06-2.06.94z\"/><path d=\"M17.41 7.96l-1.37-1.37c-.4-.4-.92-.59-1.43-.59-.52 0-1.04.2-1.43.59L10.3 9.45l-7.72 7.72c-.78.78-.78 2.05 0 2.83L4 21.41c.39.39.9.59 1.41.59.51 0 1.02-.2 1.41-.59l7.78-7.78 2.81-2.81c.8-.78.8-2.07 0-2.86zM5.41 20L4 18.59l7.72-7.72 1.47 1.35L5.41 20z\"/>\n",
              "  </svg>\n",
              "      </button>\n",
              "      \n",
              "  <style>\n",
              "    .colab-df-container {\n",
              "      display:flex;\n",
              "      flex-wrap:wrap;\n",
              "      gap: 12px;\n",
              "    }\n",
              "\n",
              "    .colab-df-convert {\n",
              "      background-color: #E8F0FE;\n",
              "      border: none;\n",
              "      border-radius: 50%;\n",
              "      cursor: pointer;\n",
              "      display: none;\n",
              "      fill: #1967D2;\n",
              "      height: 32px;\n",
              "      padding: 0 0 0 0;\n",
              "      width: 32px;\n",
              "    }\n",
              "\n",
              "    .colab-df-convert:hover {\n",
              "      background-color: #E2EBFA;\n",
              "      box-shadow: 0px 1px 2px rgba(60, 64, 67, 0.3), 0px 1px 3px 1px rgba(60, 64, 67, 0.15);\n",
              "      fill: #174EA6;\n",
              "    }\n",
              "\n",
              "    [theme=dark] .colab-df-convert {\n",
              "      background-color: #3B4455;\n",
              "      fill: #D2E3FC;\n",
              "    }\n",
              "\n",
              "    [theme=dark] .colab-df-convert:hover {\n",
              "      background-color: #434B5C;\n",
              "      box-shadow: 0px 1px 3px 1px rgba(0, 0, 0, 0.15);\n",
              "      filter: drop-shadow(0px 1px 2px rgba(0, 0, 0, 0.3));\n",
              "      fill: #FFFFFF;\n",
              "    }\n",
              "  </style>\n",
              "\n",
              "      <script>\n",
              "        const buttonEl =\n",
              "          document.querySelector('#df-1ab33e50-0840-4558-b16b-749f1167901b button.colab-df-convert');\n",
              "        buttonEl.style.display =\n",
              "          google.colab.kernel.accessAllowed ? 'block' : 'none';\n",
              "\n",
              "        async function convertToInteractive(key) {\n",
              "          const element = document.querySelector('#df-1ab33e50-0840-4558-b16b-749f1167901b');\n",
              "          const dataTable =\n",
              "            await google.colab.kernel.invokeFunction('convertToInteractive',\n",
              "                                                     [key], {});\n",
              "          if (!dataTable) return;\n",
              "\n",
              "          const docLinkHtml = 'Like what you see? Visit the ' +\n",
              "            '<a target=\"_blank\" href=https://colab.research.google.com/notebooks/data_table.ipynb>data table notebook</a>'\n",
              "            + ' to learn more about interactive tables.';\n",
              "          element.innerHTML = '';\n",
              "          dataTable['output_type'] = 'display_data';\n",
              "          await google.colab.output.renderOutput(dataTable, element);\n",
              "          const docLink = document.createElement('div');\n",
              "          docLink.innerHTML = docLinkHtml;\n",
              "          element.appendChild(docLink);\n",
              "        }\n",
              "      </script>\n",
              "    </div>\n",
              "  </div>\n",
              "  "
            ],
            "text/plain": [
              "         userid  sum_gamerounds  retention_1  retention_7\n",
              "version                                                  \n",
              "gate_30   40800           40800        40800        40800\n",
              "gate_40   41562           41562        41562        41562"
            ]
          },
          "metadata": {},
          "execution_count": 24
        }
      ]
    },
    {
      "cell_type": "code",
      "source": [
        "sns.boxplot(x = 'version', y = 'sum_gamerounds', data = data)\n",
        "\n",
        "# 75% данных лежат в от 0 до 150, поэтому будем удалять все, что больше 150"
      ],
      "metadata": {
        "colab": {
          "base_uri": "https://localhost:8080/",
          "height": 297
        },
        "id": "Z-Ippwkpg5-O",
        "outputId": "a3b50a2f-93f2-4b50-a5a9-ab1b9ef7b4cc"
      },
      "execution_count": null,
      "outputs": [
        {
          "output_type": "execute_result",
          "data": {
            "text/plain": [
              "<matplotlib.axes._subplots.AxesSubplot at 0x7f76f32e7350>"
            ]
          },
          "metadata": {},
          "execution_count": 27
        },
        {
          "output_type": "display_data",
          "data": {
            "image/png": "[encoded data removed]",
            "text/plain": [
              "<Figure size 432x288 with 1 Axes>"
            ]
          },
          "metadata": {
            "needs_background": "light"
          }
        }
      ]
    },
    {
      "cell_type": "code",
      "source": [
        "# удаляем хвосты\n",
        "data = data.drop(data.loc[data['sum_gamerounds']>150].index)"
      ],
      "metadata": {
        "id": "QgrspYhQhfje"
      },
      "execution_count": null,
      "outputs": []
    },
    {
      "cell_type": "code",
      "source": [
        "# визуализируем группы в зависимости от кол-ва прйденных раундов с помощью гистаграммы\n",
        "v_30 = data.loc[data.version == 'gate_30']\n",
        "v_40 = data.loc[data.version == 'gate_40']\n",
        "\n",
        "\n",
        "bins = 200\n",
        "plt.figure(figsize=(15, 10))\n",
        "# alpha - уровень прозрачности, bbox_to_anchor - расположение легенды в зависимости от графика, а не от сетки\n",
        "plt.hist(v_30['sum_gamerounds'], bins=bins, alpha=1, edgecolor='black', label='gate 30')\n",
        "plt.hist(v_40['sum_gamerounds'], bins=bins, alpha=0.7, label='gate 40')\n",
        "plt.legend(loc='upper right', bbox_to_anchor=(0.45, 0.35))\n",
        "plt.show()\n",
        "\n",
        "# вывод: распределение не нормальное (похоже на хи-квадрат), есть различия в кол-ве игровых раундов на отрезке примерно между 20 и 50. ???Необходмимо проверить, значимы ли они и что могут означать"
      ],
      "metadata": {
        "colab": {
          "base_uri": "https://localhost:8080/",
          "height": 592
        },
        "id": "h9NGr_fg-ZmG",
        "outputId": "99e8c392-78b1-4783-e89b-91c7a1c3b6b5"
      },
      "execution_count": null,
      "outputs": [
        {
          "output_type": "display_data",
          "data": {
            "image/png": "[encoded data removed]",
            "text/plain": [
              "<Figure size 1080x720 with 1 Axes>"
            ]
          },
          "metadata": {
            "needs_background": "light"
          }
        }
      ]
    },
    {
      "cell_type": "code",
      "source": [
        "# визуализируем различия между средним  кол-ом сыгранных игр с помощью бустрап\n",
        "\n",
        "plt.figure(figsize=(15, 10))\n",
        "\n",
        "# берем 1000 выборок с помощью семплирования (frac - доля возвращаемых элементов, 1 - возвращаем весь столбец; replace - возможность использовать ту же самую строку несколько раз в одном семпле: ведет к повторению строк--> разные средние значения)\n",
        "boot_1d = []\n",
        "for i in range(1000):\n",
        "    boot_mean = data.sample(frac = 1, replace = True).groupby('version')['sum_gamerounds'].mean()  #retention_7\n",
        "    boot_1d.append(boot_mean)\n",
        "    \n",
        "# Преобразование списка в DataFrame\n",
        "boot_1d = pd.DataFrame(boot_1d)\n",
        "    \n",
        "# A Kernel Density Estimate plot of the bootstrap distributions\n",
        "boot_1d.plot(kind='density')"
      ],
      "metadata": {
        "colab": {
          "base_uri": "https://localhost:8080/",
          "height": 300
        },
        "id": "FeG5amG8F3C6",
        "outputId": "a6127e14-bddf-43ec-fbd5-4a9f1a2d12ad"
      },
      "execution_count": null,
      "outputs": [
        {
          "output_type": "execute_result",
          "data": {
            "text/plain": [
              "<matplotlib.axes._subplots.AxesSubplot at 0x7f76f3159850>"
            ]
          },
          "metadata": {},
          "execution_count": 29
        },
        {
          "output_type": "display_data",
          "data": {
            "text/plain": [
              "<Figure size 1080x720 with 0 Axes>"
            ]
          },
          "metadata": {}
        },
        {
          "output_type": "display_data",
          "data": {
            "image/png": "[encoded data removed]",
            "text/plain": [
              "<Figure size 432x288 with 1 Axes>"
            ]
          },
          "metadata": {
            "needs_background": "light"
          }
        }
      ]
    },
    {
      "cell_type": "code",
      "source": [
        "# Применяем критерий Манна-Уитни для проверки статистически значимых различий между кол-ом пройденных раундов в группах gate_30 и gate_40.\n",
        "# H0: уровень ворот не влияет на среднее кол-во  пройденных раундов\n",
        "\n",
        "from scipy.stats import mannwhitneyu\n",
        "stat, p = mannwhitneyu(boot_1d['gate_30'], boot_1d['gate_40'])\n",
        "\n",
        "alpha = 0.95\n",
        "\n",
        "if p < alpha:\n",
        "    print('H0 отклоняется на 5% уровне значимости, средние значения пройденных раундов в группах отличаются')\n",
        "else:\n",
        "    print('H0 принимаем, статистически значимых отличий в среднем нет')\n",
        "\n"
      ],
      "metadata": {
        "colab": {
          "base_uri": "https://localhost:8080/"
        },
        "id": "irCHDTOAgRI6",
        "outputId": "fcca1984-d06f-4561-838e-711f8315fdf6"
      },
      "execution_count": null,
      "outputs": [
        {
          "output_type": "stream",
          "name": "stdout",
          "text": [
            "H0 отклоняется на 5% уровне значимости, средние значения пройденных раундов в группах отличаются\n"
          ]
        }
      ]
    },
    {
      "cell_type": "code",
      "source": [
        "# Визуализируем различия между средними значениями вернувшихся через 7 дней после установки игры. Т.к. значений всего 2, применим бустрап\n",
        "plt.figure(figsize=(15, 10))\n",
        "\n",
        "# берем 1000 выборок с помощью семплирования (frac - доля возвращаемых элементов, 1 - возвращаем весь столбец; replace - возможность использовать ту же самую строку несколько раз в одном семпле: ведет к повторению строк--> разные средние значения)\n",
        "boot_1d = []\n",
        "for i in range(1000):\n",
        "    boot_mean = data.sample(frac = 1, replace = True).groupby('version')['retention_7'].mean()  #retention_7\n",
        "    boot_1d.append(boot_mean)\n",
        "    \n",
        "# Преобразование списка в DataFrame\n",
        "boot_1d = pd.DataFrame(boot_1d)\n",
        "    \n",
        "# A Kernel Density Estimate plot of the bootstrap distributions\n",
        "boot_1d.plot(kind='density')"
      ],
      "metadata": {
        "colab": {
          "base_uri": "https://localhost:8080/",
          "height": 300
        },
        "id": "hAeicQzRR2dT",
        "outputId": "8fb1a792-79c2-4a1d-930a-191aa561cba9"
      },
      "execution_count": null,
      "outputs": [
        {
          "output_type": "execute_result",
          "data": {
            "text/plain": [
              "<matplotlib.axes._subplots.AxesSubplot at 0x7f76f2d41410>"
            ]
          },
          "metadata": {},
          "execution_count": 33
        },
        {
          "output_type": "display_data",
          "data": {
            "text/plain": [
              "<Figure size 1080x720 with 0 Axes>"
            ]
          },
          "metadata": {}
        },
        {
          "output_type": "display_data",
          "data": {
            "image/png": "[encoded data removed]",
            "text/plain": [
              "<Figure size 432x288 with 1 Axes>"
            ]
          },
          "metadata": {
            "needs_background": "light"
          }
        }
      ]
    },
    {
      "cell_type": "code",
      "source": [
        "# Применем критерий t-Стъюдента, чтобы проверить различия средних значений вернувшихмя через 7 дней в зависимости от ворот\n",
        "\n",
        "stat, p = stats.ttest_ind(boot_1d['gate_30'], boot_1d['gate_40'])\n",
        "\n",
        "alpha = 0.95\n",
        "\n",
        "if p < alpha:\n",
        "    print('H0 отклоняется на 5% уровне значимости, средние значения вернувшихся в группах отличаются')\n",
        "else:\n",
        "    print('H0 принимаем, статистически значимых отличий в среднем нет')"
      ],
      "metadata": {
        "colab": {
          "base_uri": "https://localhost:8080/"
        },
        "id": "AvPXzVRFkAay",
        "outputId": "845cb185-5b0d-4859-e62e-a1be731eaab0"
      },
      "execution_count": null,
      "outputs": [
        {
          "output_type": "stream",
          "name": "stdout",
          "text": [
            "H0 отклоняется на 5% уровне значимости, средние значения вернувшихся в группах отличаются\n"
          ]
        }
      ]
    },
    {
      "cell_type": "markdown",
      "source": [
        "Выводы:\n",
        "1. средние кол-во пройденных раундов статистически значимо отличаются (gate_40> gste_30), но скорее всего причина в том, что при gate_40 больше открыто бесплатных раундов\n",
        "2. статистически значимо отличаются среднее кол-во вернувшихся в игру через 7 дней, при gate_30 их  больше.\n",
        "Таким образом, нужно ставить gate_30, т.к. это значение ворот в большей степени способствует удержанию игроков"
      ],
      "metadata": {
        "id": "MS_bD-qBkY7g"
      }
    },
    {
      "cell_type": "markdown",
      "source": [
        "# Покемоны и AB-тестирование\n"
      ],
      "metadata": {
        "id": "5ZZKVZJblca_"
      }
    },
    {
      "cell_type": "markdown",
      "source": [
        "Покемоны - это маленькие существа, которые сражаются друг с другом на соревнованиях. Все покемоны имеют разные характеристики (сила атаки, защиты и т. д.) И относятся к одному или двум так называемым классам (вода, огонь и т. д.).\n",
        "\n",
        " Профессор Оук является изобретателем Pokedex, портативного устройства, которое хранит информацию обо всех существующих покемонах. Как его ведущий специалист по данным, Вы только что получили от него запрос с просьбой осуществить аналитику данных на всех устройствах Pokedex.\n",
        "\n",
        "Описание набора данных\n",
        "\n",
        "Профессор Оук скопировал все содержимое память одного устройства Pokedex, в результате чего получился набор данных, с которым Вы будете работать в этой задаче. В этом файле каждая строка представляет характеристики одного покемона:\n",
        "\n",
        "pid: Numeric - ID покемона\n",
        "\n",
        "HP: Numeric - Очки здоровья\n",
        "\n",
        "Attack: Numeric - Сила обычной атаки\n",
        "\n",
        "Defense: Numeric - Сила обычной защиты\n",
        "\n",
        "Sp. Atk: Numeric - Сила специальной атаки\n",
        "\n",
        "Sp. Def: Numeric - Сила специальной защиты\n",
        "\n",
        "Speed: Numeric - Скорость движений\n",
        "\n",
        "Legendary: Boolean - «True», если покемон редкий\n",
        "\n",
        "Class 1: Categorical - Класс покемона\n",
        "\n",
        "Class 2: Categorical - Класс покемона"
      ],
      "metadata": {
        "id": "JDHUlv5Rlgvt"
      }
    },
    {
      "cell_type": "code",
      "source": [
        "pokemon_path = 'https://raw.githubusercontent.com/a-milenkin/datasets_for_t-tests/main/pokemon.csv'\n",
        "pokemon = pd.read_csv(pokemon_path, error_bad_lines=False)  # Откроем датасет\n",
        "pokemon.head()\n",
        "\n",
        " \n",
        "#Обратите внимание, что у покемона может быть один или два класса. Если у покемона два класса, считается,\n",
        "#что они имеют одинаковую значимость."
      ],
      "metadata": {
        "colab": {
          "base_uri": "https://localhost:8080/",
          "height": 296
        },
        "id": "-YuLGj8Zl11k",
        "outputId": "bd418ad6-1cc8-42d6-d2d9-49fa1cc6e14b"
      },
      "execution_count": null,
      "outputs": [
        {
          "output_type": "stream",
          "name": "stderr",
          "text": [
            "/usr/local/lib/python3.7/dist-packages/IPython/core/interactiveshell.py:2882: FutureWarning: The error_bad_lines argument has been deprecated and will be removed in a future version.\n",
            "\n",
            "\n",
            "  exec(code_obj, self.user_global_ns, self.user_ns)\n"
          ]
        },
        {
          "output_type": "execute_result",
          "data": {
            "text/html": [
              "\n",
              "  <div id=\"df-b87625d7-5f0b-48c3-92ae-b3d2426c94f3\">\n",
              "    <div class=\"colab-df-container\">\n",
              "      <div>\n",
              "<style scoped>\n",
              "    .dataframe tbody tr th:only-of-type {\n",
              "        vertical-align: middle;\n",
              "    }\n",
              "\n",
              "    .dataframe tbody tr th {\n",
              "        vertical-align: top;\n",
              "    }\n",
              "\n",
              "    .dataframe thead th {\n",
              "        text-align: right;\n",
              "    }\n",
              "</style>\n",
              "<table border=\"1\" class=\"dataframe\">\n",
              "  <thead>\n",
              "    <tr style=\"text-align: right;\">\n",
              "      <th></th>\n",
              "      <th>pid</th>\n",
              "      <th>Name</th>\n",
              "      <th>Class 1</th>\n",
              "      <th>Class 2</th>\n",
              "      <th>HP</th>\n",
              "      <th>Attack</th>\n",
              "      <th>Defense</th>\n",
              "      <th>Sp. Atk</th>\n",
              "      <th>Sp. Def</th>\n",
              "      <th>Speed</th>\n",
              "      <th>Legendary</th>\n",
              "    </tr>\n",
              "  </thead>\n",
              "  <tbody>\n",
              "    <tr>\n",
              "      <th>0</th>\n",
              "      <td>1</td>\n",
              "      <td>Bulbasaur</td>\n",
              "      <td>Grass</td>\n",
              "      <td>Poison</td>\n",
              "      <td>45</td>\n",
              "      <td>49</td>\n",
              "      <td>49</td>\n",
              "      <td>65</td>\n",
              "      <td>65</td>\n",
              "      <td>45</td>\n",
              "      <td>False</td>\n",
              "    </tr>\n",
              "    <tr>\n",
              "      <th>1</th>\n",
              "      <td>2</td>\n",
              "      <td>Ivysaur</td>\n",
              "      <td>Grass</td>\n",
              "      <td>Poison</td>\n",
              "      <td>60</td>\n",
              "      <td>62</td>\n",
              "      <td>63</td>\n",
              "      <td>80</td>\n",
              "      <td>80</td>\n",
              "      <td>60</td>\n",
              "      <td>False</td>\n",
              "    </tr>\n",
              "    <tr>\n",
              "      <th>2</th>\n",
              "      <td>3</td>\n",
              "      <td>Venusaur</td>\n",
              "      <td>Grass</td>\n",
              "      <td>Poison</td>\n",
              "      <td>80</td>\n",
              "      <td>82</td>\n",
              "      <td>83</td>\n",
              "      <td>100</td>\n",
              "      <td>100</td>\n",
              "      <td>80</td>\n",
              "      <td>False</td>\n",
              "    </tr>\n",
              "    <tr>\n",
              "      <th>3</th>\n",
              "      <td>4</td>\n",
              "      <td>Mega Venusaur</td>\n",
              "      <td>Grass</td>\n",
              "      <td>Poison</td>\n",
              "      <td>80</td>\n",
              "      <td>100</td>\n",
              "      <td>123</td>\n",
              "      <td>122</td>\n",
              "      <td>120</td>\n",
              "      <td>80</td>\n",
              "      <td>False</td>\n",
              "    </tr>\n",
              "    <tr>\n",
              "      <th>4</th>\n",
              "      <td>5</td>\n",
              "      <td>Charmander</td>\n",
              "      <td>Fire</td>\n",
              "      <td>NaN</td>\n",
              "      <td>39</td>\n",
              "      <td>52</td>\n",
              "      <td>43</td>\n",
              "      <td>60</td>\n",
              "      <td>50</td>\n",
              "      <td>65</td>\n",
              "      <td>False</td>\n",
              "    </tr>\n",
              "  </tbody>\n",
              "</table>\n",
              "</div>\n",
              "      <button class=\"colab-df-convert\" onclick=\"convertToInteractive('df-b87625d7-5f0b-48c3-92ae-b3d2426c94f3')\"\n",
              "              title=\"Convert this dataframe to an interactive table.\"\n",
              "              style=\"display:none;\">\n",
              "        \n",
              "  <svg xmlns=\"http://www.w3.org/2000/svg\" height=\"24px\"viewBox=\"0 0 24 24\"\n",
              "       width=\"24px\">\n",
              "    <path d=\"M0 0h24v24H0V0z\" fill=\"none\"/>\n",
              "    <path d=\"M18.56 5.44l.94 2.06.94-2.06 2.06-.94-2.06-.94-.94-2.06-.94 2.06-2.06.94zm-11 1L8.5 8.5l.94-2.06 2.06-.94-2.06-.94L8.5 2.5l-.94 2.06-2.06.94zm10 10l.94 2.06.94-2.06 2.06-.94-2.06-.94-.94-2.06-.94 2.06-2.06.94z\"/><path d=\"M17.41 7.96l-1.37-1.37c-.4-.4-.92-.59-1.43-.59-.52 0-1.04.2-1.43.59L10.3 9.45l-7.72 7.72c-.78.78-.78 2.05 0 2.83L4 21.41c.39.39.9.59 1.41.59.51 0 1.02-.2 1.41-.59l7.78-7.78 2.81-2.81c.8-.78.8-2.07 0-2.86zM5.41 20L4 18.59l7.72-7.72 1.47 1.35L5.41 20z\"/>\n",
              "  </svg>\n",
              "      </button>\n",
              "      \n",
              "  <style>\n",
              "    .colab-df-container {\n",
              "      display:flex;\n",
              "      flex-wrap:wrap;\n",
              "      gap: 12px;\n",
              "    }\n",
              "\n",
              "    .colab-df-convert {\n",
              "      background-color: #E8F0FE;\n",
              "      border: none;\n",
              "      border-radius: 50%;\n",
              "      cursor: pointer;\n",
              "      display: none;\n",
              "      fill: #1967D2;\n",
              "      height: 32px;\n",
              "      padding: 0 0 0 0;\n",
              "      width: 32px;\n",
              "    }\n",
              "\n",
              "    .colab-df-convert:hover {\n",
              "      background-color: #E2EBFA;\n",
              "      box-shadow: 0px 1px 2px rgba(60, 64, 67, 0.3), 0px 1px 3px 1px rgba(60, 64, 67, 0.15);\n",
              "      fill: #174EA6;\n",
              "    }\n",
              "\n",
              "    [theme=dark] .colab-df-convert {\n",
              "      background-color: #3B4455;\n",
              "      fill: #D2E3FC;\n",
              "    }\n",
              "\n",
              "    [theme=dark] .colab-df-convert:hover {\n",
              "      background-color: #434B5C;\n",
              "      box-shadow: 0px 1px 3px 1px rgba(0, 0, 0, 0.15);\n",
              "      filter: drop-shadow(0px 1px 2px rgba(0, 0, 0, 0.3));\n",
              "      fill: #FFFFFF;\n",
              "    }\n",
              "  </style>\n",
              "\n",
              "      <script>\n",
              "        const buttonEl =\n",
              "          document.querySelector('#df-b87625d7-5f0b-48c3-92ae-b3d2426c94f3 button.colab-df-convert');\n",
              "        buttonEl.style.display =\n",
              "          google.colab.kernel.accessAllowed ? 'block' : 'none';\n",
              "\n",
              "        async function convertToInteractive(key) {\n",
              "          const element = document.querySelector('#df-b87625d7-5f0b-48c3-92ae-b3d2426c94f3');\n",
              "          const dataTable =\n",
              "            await google.colab.kernel.invokeFunction('convertToInteractive',\n",
              "                                                     [key], {});\n",
              "          if (!dataTable) return;\n",
              "\n",
              "          const docLinkHtml = 'Like what you see? Visit the ' +\n",
              "            '<a target=\"_blank\" href=https://colab.research.google.com/notebooks/data_table.ipynb>data table notebook</a>'\n",
              "            + ' to learn more about interactive tables.';\n",
              "          element.innerHTML = '';\n",
              "          dataTable['output_type'] = 'display_data';\n",
              "          await google.colab.output.renderOutput(dataTable, element);\n",
              "          const docLink = document.createElement('div');\n",
              "          docLink.innerHTML = docLinkHtml;\n",
              "          element.appendChild(docLink);\n",
              "        }\n",
              "      </script>\n",
              "    </div>\n",
              "  </div>\n",
              "  "
            ],
            "text/plain": [
              "   pid           Name Class 1 Class 2  ...  Sp. Atk  Sp. Def  Speed  Legendary\n",
              "0    1      Bulbasaur   Grass  Poison  ...       65       65     45      False\n",
              "1    2        Ivysaur   Grass  Poison  ...       80       80     60      False\n",
              "2    3       Venusaur   Grass  Poison  ...      100      100     80      False\n",
              "3    4  Mega Venusaur   Grass  Poison  ...      122      120     80      False\n",
              "4    5     Charmander    Fire     NaN  ...       60       50     65      False\n",
              "\n",
              "[5 rows x 11 columns]"
            ]
          },
          "metadata": {},
          "execution_count": 46
        }
      ]
    },
    {
      "cell_type": "markdown",
      "source": [
        "# Задачи"
      ],
      "metadata": {
        "id": "jT_ISi6LmBdd"
      }
    },
    {
      "cell_type": "markdown",
      "source": [
        "**Задание № 1 (Обязательно):**\n",
        "\n",
        "Профессор Оук подозревает, что покемоны в классе grass имеют более сильную обычную атаку, чем у покемонов в классе rock. Проверьте, прав ли он, и убедите его в своем выводе статистически.\n",
        "\n",
        "Примечание: если есть покемоны, которые относятся к обоим классам, просто выбросьте их;\n",
        "\n",
        "Вы можете предположить, что распределение обычных атак является нормальным для всех классов покемонов."
      ],
      "metadata": {
        "id": "ujMws4rWmGed"
      }
    },
    {
      "cell_type": "code",
      "source": [
        "pokemon.info()"
      ],
      "metadata": {
        "colab": {
          "base_uri": "https://localhost:8080/"
        },
        "id": "ZQ9lX_vWmWJl",
        "outputId": "a847e76a-24de-400b-efaf-5bbd8323db7b"
      },
      "execution_count": null,
      "outputs": [
        {
          "output_type": "stream",
          "name": "stdout",
          "text": [
            "<class 'pandas.core.frame.DataFrame'>\n",
            "RangeIndex: 800 entries, 0 to 799\n",
            "Data columns (total 11 columns):\n",
            " #   Column     Non-Null Count  Dtype \n",
            "---  ------     --------------  ----- \n",
            " 0   pid        800 non-null    int64 \n",
            " 1   Name       799 non-null    object\n",
            " 2   Class 1    800 non-null    object\n",
            " 3   Class 2    414 non-null    object\n",
            " 4   HP         800 non-null    int64 \n",
            " 5   Attack     800 non-null    int64 \n",
            " 6   Defense    800 non-null    int64 \n",
            " 7   Sp. Atk    800 non-null    int64 \n",
            " 8   Sp. Def    800 non-null    int64 \n",
            " 9   Speed      800 non-null    int64 \n",
            " 10  Legendary  800 non-null    bool  \n",
            "dtypes: bool(1), int64(7), object(3)\n",
            "memory usage: 63.4+ KB\n"
          ]
        }
      ]
    },
    {
      "cell_type": "code",
      "source": [
        "# нашли и удалили покемонов, которые принадлежат сразу двум классам: Grass и Rock\n",
        "index = pokemon[(pokemon['Class 1'] == 'Grass') & (pokemon['Class 2'] == 'Rock') | (pokemon['Class 2'] == 'Grass') & (pokemon['Class 1'] == 'Rock')].index "
      ],
      "metadata": {
        "id": "YlpYDCpbmqlX"
      },
      "execution_count": null,
      "outputs": []
    },
    {
      "cell_type": "code",
      "source": [
        "pokemon_task = pokemon.drop(index = index)"
      ],
      "metadata": {
        "id": "747KeAeWrTos"
      },
      "execution_count": null,
      "outputs": []
    },
    {
      "cell_type": "code",
      "source": [
        "Attack_Grass = pokemon_task [(pokemon_task ['Class 1'] == 'Grass') |(pokemon_task ['Class 2'] == 'Grass')]['Attack']\n"
      ],
      "metadata": {
        "id": "SBpo2g5ur1l6"
      },
      "execution_count": null,
      "outputs": []
    },
    {
      "cell_type": "code",
      "source": [
        "Attack_Rock = pokemon_task[(pokemon_task ['Class 1'] == 'Rock') |(pokemon_task ['Class 2'] == 'Rock')]['Attack']\n"
      ],
      "metadata": {
        "id": "AjZlCkIVsG9d"
      },
      "execution_count": null,
      "outputs": []
    },
    {
      "cell_type": "code",
      "source": [
        "plt.hist(Attack_Grass, color = 'green')\n",
        "plt.hist(Attack_Rock)"
      ],
      "metadata": {
        "colab": {
          "base_uri": "https://localhost:8080/",
          "height": 334
        },
        "id": "xZ0PoQNYs-Pq",
        "outputId": "bc7eb585-2f5d-486c-a47f-fecab99f1e2c"
      },
      "execution_count": null,
      "outputs": [
        {
          "output_type": "execute_result",
          "data": {
            "text/plain": [
              "(array([ 1.,  1., 10.,  5.,  8., 10.,  7.,  6.,  5.,  3.]),\n",
              " array([ 10. ,  25.5,  41. ,  56.5,  72. ,  87.5, 103. , 118.5, 134. ,\n",
              "        149.5, 165. ]),\n",
              " <a list of 10 Patch objects>)"
            ]
          },
          "metadata": {},
          "execution_count": 23
        },
        {
          "output_type": "display_data",
          "data": {
            "image/png": "[encoded data removed]",
            "text/plain": [
              "<Figure size 432x288 with 1 Axes>"
            ]
          },
          "metadata": {
            "needs_background": "light"
          }
        }
      ]
    },
    {
      "cell_type": "code",
      "source": [
        "Attack_Grass.describe()"
      ],
      "metadata": {
        "colab": {
          "base_uri": "https://localhost:8080/"
        },
        "id": "vSomVQcjqCN3",
        "outputId": "c7ab7b10-f706-41dd-dfcb-6ce39e157147"
      },
      "execution_count": null,
      "outputs": [
        {
          "output_type": "execute_result",
          "data": {
            "text/plain": [
              "count     93.000000\n",
              "mean      73.731183\n",
              "std       24.179645\n",
              "min       27.000000\n",
              "25%       59.000000\n",
              "50%       70.000000\n",
              "75%       95.000000\n",
              "max      132.000000\n",
              "Name: Attack, dtype: float64"
            ]
          },
          "metadata": {},
          "execution_count": 12
        }
      ]
    },
    {
      "cell_type": "code",
      "source": [
        "Attack_Rock.describe()"
      ],
      "metadata": {
        "colab": {
          "base_uri": "https://localhost:8080/"
        },
        "id": "ooUrCRfCueWw",
        "outputId": "1bbddaa6-5409-40e7-9308-345297320bd3"
      },
      "execution_count": null,
      "outputs": [
        {
          "output_type": "execute_result",
          "data": {
            "text/plain": [
              "count     56.000000\n",
              "mean      91.785714\n",
              "std       34.805284\n",
              "min       10.000000\n",
              "25%       63.000000\n",
              "50%       92.500000\n",
              "75%      116.250000\n",
              "max      165.000000\n",
              "Name: Attack, dtype: float64"
            ]
          },
          "metadata": {},
          "execution_count": 13
        }
      ]
    },
    {
      "cell_type": "markdown",
      "source": [
        "Судя по первичному анализу данных, профессор не прав: покемоны Rock обладают более сильной атакой, чем покемоны Grass.\n",
        "Докажем это статистически"
      ],
      "metadata": {
        "id": "LtEG8tRrsOSi"
      }
    },
    {
      "cell_type": "code",
      "source": [
        "# Проверим равенство диперсий. Н0: дисперсии равны\n",
        "F = np.var(Attack_Rock)/np.var(Attack_Grass)\n",
        "p_value = 1 -stats.f.cdf(F, len(Attack_Rock)-1, len(Attack_Grass)-1) \n",
        "p_value\n",
        "\n",
        "# Отконяем Н0 на 5% уровне значимости, будем использовать критерий Манна-Уитни"
      ],
      "metadata": {
        "colab": {
          "base_uri": "https://localhost:8080/"
        },
        "id": "i_iAjTl7s3uo",
        "outputId": "8a312a7b-edc5-465f-fe66-a9b7426520bf"
      },
      "execution_count": null,
      "outputs": [
        {
          "output_type": "execute_result",
          "data": {
            "text/plain": [
              "0.0010985604631855717"
            ]
          },
          "metadata": {},
          "execution_count": 20
        }
      ]
    },
    {
      "cell_type": "code",
      "source": [
        "# H0: средние значения атаки для классов равны. Н альтернативная: покемоны Rock обладают более сильной атакой, чем покемоны Grass\n",
        "from scipy.stats import mannwhitneyu\n",
        "stat, p = mannwhitneyu(Attack_Grass, Attack_Rock)\n",
        "p\n",
        "\n",
        "# H0 отклоняем, принимаем альтернативную гипотезу:покемоны Rock обладают более сильной атакой, чем покемоны Grass. "
      ],
      "metadata": {
        "colab": {
          "base_uri": "https://localhost:8080/"
        },
        "id": "97GcfnrPtUG8",
        "outputId": "2527a870-5366-4b55-c740-e912b56b25e9"
      },
      "execution_count": null,
      "outputs": [
        {
          "output_type": "execute_result",
          "data": {
            "text/plain": [
              "0.0010133329572143746"
            ]
          },
          "metadata": {},
          "execution_count": 22
        }
      ]
    },
    {
      "cell_type": "markdown",
      "source": [
        "\n",
        "**Задание № 2 (Обязательно):**\n",
        "\n",
        "Профессор Оук уже долго не может спать по ночам ведь его волнует вопрос, а правда, что покемоны что покемоны в классе Water в среднем более быстрые, чем покемоны в классе Normal.\n",
        "\n",
        "Проверьте, прав ли он, и убедите его в своем выводе статистически.\n",
        "\n",
        "Примечание: если есть покемоны относятся к обоим классам, выбросьте их;\n",
        "\n",
        "Вы можете предположить, что распределение скорости движения является нормальным для всех классов покемонов."
      ],
      "metadata": {
        "id": "nEpDWzuEu_DH"
      }
    },
    {
      "cell_type": "code",
      "source": [
        "# нашли и удалили покемонов, которые принадлежат сразу двум классам: Water и Normal\n",
        "index = pokemon[(pokemon['Class 1'] == 'Water') & (pokemon['Class 2'] == 'Normal') | (pokemon['Class 2'] == 'Water') & (pokemon['Class 1'] == 'Normal')].index\n",
        "pokemon_task = pokemon.drop(index = index)"
      ],
      "metadata": {
        "id": "47E2wtdlu98M"
      },
      "execution_count": null,
      "outputs": []
    },
    {
      "cell_type": "code",
      "source": [
        "Speed_Water = pokemon_task [(pokemon_task ['Class 1'] == 'Water') |(pokemon_task ['Class 2'] == 'Water')]['Speed']\n",
        "Speed_Water.describe()"
      ],
      "metadata": {
        "colab": {
          "base_uri": "https://localhost:8080/"
        },
        "id": "D6nRI-WEvwOw",
        "outputId": "824acd66-a0fb-45e5-89f3-13a4614783a9"
      },
      "execution_count": null,
      "outputs": [
        {
          "output_type": "execute_result",
          "data": {
            "text/plain": [
              "count    125.00000\n",
              "mean      64.93600\n",
              "std       22.74889\n",
              "min       15.00000\n",
              "25%       50.00000\n",
              "50%       65.00000\n",
              "75%       81.00000\n",
              "max      122.00000\n",
              "Name: Speed, dtype: float64"
            ]
          },
          "metadata": {},
          "execution_count": 60
        }
      ]
    },
    {
      "cell_type": "code",
      "source": [
        "Speed_Normal = pokemon_task [(pokemon_task ['Class 1'] == 'Normal') |(pokemon_task ['Class 2'] == 'Normal')]['Speed']\n",
        "Speed_Normal.describe()"
      ],
      "metadata": {
        "colab": {
          "base_uri": "https://localhost:8080/"
        },
        "id": "CB1D1L-Rv_rU",
        "outputId": "ad65ca1f-dbd9-473c-c14f-a27db9be7871"
      },
      "execution_count": null,
      "outputs": [
        {
          "output_type": "execute_result",
          "data": {
            "text/plain": [
              "count    101.000000\n",
              "mean      72.257426\n",
              "std       28.427330\n",
              "min        5.000000\n",
              "25%       50.000000\n",
              "50%       72.000000\n",
              "75%       93.000000\n",
              "max      135.000000\n",
              "Name: Speed, dtype: float64"
            ]
          },
          "metadata": {},
          "execution_count": 61
        }
      ]
    },
    {
      "cell_type": "markdown",
      "source": [
        "Судя по первичному анализу данных, профессор не прав: покемоны Normal обладают более высокой скоростью, чем покемоны Water.\n",
        "Докажем это статистически"
      ],
      "metadata": {
        "id": "QFVf9yZtxHF6"
      }
    },
    {
      "cell_type": "code",
      "source": [
        "# Проверим равенство диперсий. Н0: дисперсии равны\n",
        "F = np.var(Speed_Normal)/np.var(Speed_Water)\n",
        "p_value = 1 -stats.f.cdf(F, len(Speed_Normal)-1, len(Speed_Water)-1) \n",
        "p_value\n",
        "\n",
        "# Отконяем Н0 на 5% уровне значимости, будем использовать критерий Манна-Уитни"
      ],
      "metadata": {
        "colab": {
          "base_uri": "https://localhost:8080/"
        },
        "id": "h8TqXD_pxbte",
        "outputId": "5715c57a-84d8-44c5-9921-137235df0d2e"
      },
      "execution_count": null,
      "outputs": [
        {
          "output_type": "execute_result",
          "data": {
            "text/plain": [
              "0.009509951412015383"
            ]
          },
          "metadata": {},
          "execution_count": 35
        }
      ]
    },
    {
      "cell_type": "code",
      "source": [
        "# H0: средние значения атаки для классов равны. Н альтернативная: покемоны Normal обладают более высокой скоростью, чем покемоны Water\n",
        "from scipy.stats import mannwhitneyu\n",
        "stat, p = mannwhitneyu(Speed_Normal, Speed_Water)\n",
        "p\n",
        "\n",
        "# H0 отклоняем, принимаем альтернативную гипотезу:покемоны Normal обладают более высокой скоростью, чем покемоны Water "
      ],
      "metadata": {
        "colab": {
          "base_uri": "https://localhost:8080/"
        },
        "id": "JqKXeaffxunv",
        "outputId": "7535b563-353b-4bbe-e63d-724dab575450"
      },
      "execution_count": null,
      "outputs": [
        {
          "output_type": "execute_result",
          "data": {
            "text/plain": [
              "0.019054075952765006"
            ]
          },
          "metadata": {},
          "execution_count": 36
        }
      ]
    },
    {
      "cell_type": "markdown",
      "source": [
        "**Задание № 3:**\n",
        "Профессор Оук тот еще безумец. Он изобрел сыворотку, способную ускорить покемона. Однако, мы усомнились в эффективности его вакцины. Професоор дал эту сыворотку следующим покемонам: смотри массив treathed_pokemon. Проверьте, работает ли вообще его сыворотка, убедите всех в своем выводе статистически.\n",
        "\n",
        "Вы можете предположить, что распределение скорости движения является нормальным для всех классов покемонов."
      ],
      "metadata": {
        "id": "uExjMOxiyJ8-"
      }
    },
    {
      "cell_type": "code",
      "source": [
        "# Покемоны, которые принимали сыворотку увеличения скорости\n",
        "treathed_pokemon = ['Mega Beedrill','Mega Alakazam', 'Deoxys Normal Forme', 'Mega Lopunny']"
      ],
      "metadata": {
        "id": "XTPR7VR1yJZn"
      },
      "execution_count": null,
      "outputs": []
    },
    {
      "cell_type": "code",
      "source": [
        "pd_treathed_pokemon = pokemon.loc[pokemon['Name'].isin(treathed_pokemon)]"
      ],
      "metadata": {
        "id": "zPCSd6jE4GGX"
      },
      "execution_count": null,
      "outputs": []
    },
    {
      "cell_type": "code",
      "source": [
        "pd_treathed_pokemon.describe()"
      ],
      "metadata": {
        "colab": {
          "base_uri": "https://localhost:8080/",
          "height": 300
        },
        "id": "y3AqVzbw5KI3",
        "outputId": "714752a9-14a3-4709-8b1e-23dd7c4ca8b3"
      },
      "execution_count": null,
      "outputs": [
        {
          "output_type": "execute_result",
          "data": {
            "text/html": [
              "\n",
              "  <div id=\"df-24e47483-01c4-44a2-b962-e7e818937929\">\n",
              "    <div class=\"colab-df-container\">\n",
              "      <div>\n",
              "<style scoped>\n",
              "    .dataframe tbody tr th:only-of-type {\n",
              "        vertical-align: middle;\n",
              "    }\n",
              "\n",
              "    .dataframe tbody tr th {\n",
              "        vertical-align: top;\n",
              "    }\n",
              "\n",
              "    .dataframe thead th {\n",
              "        text-align: right;\n",
              "    }\n",
              "</style>\n",
              "<table border=\"1\" class=\"dataframe\">\n",
              "  <thead>\n",
              "    <tr style=\"text-align: right;\">\n",
              "      <th></th>\n",
              "      <th>pid</th>\n",
              "      <th>HP</th>\n",
              "      <th>Attack</th>\n",
              "      <th>Defense</th>\n",
              "      <th>Sp. Atk</th>\n",
              "      <th>Sp. Def</th>\n",
              "      <th>Speed</th>\n",
              "    </tr>\n",
              "  </thead>\n",
              "  <tbody>\n",
              "    <tr>\n",
              "      <th>count</th>\n",
              "      <td>4.000000</td>\n",
              "      <td>4.00</td>\n",
              "      <td>4.000000</td>\n",
              "      <td>4.000000</td>\n",
              "      <td>4.00000</td>\n",
              "      <td>4.000000</td>\n",
              "      <td>4.000000</td>\n",
              "    </tr>\n",
              "    <tr>\n",
              "      <th>mean</th>\n",
              "      <td>249.500000</td>\n",
              "      <td>58.75</td>\n",
              "      <td>121.500000</td>\n",
              "      <td>62.250000</td>\n",
              "      <td>98.50000</td>\n",
              "      <td>80.250000</td>\n",
              "      <td>145.000000</td>\n",
              "    </tr>\n",
              "    <tr>\n",
              "      <th>std</th>\n",
              "      <td>236.750924</td>\n",
              "      <td>7.50</td>\n",
              "      <td>48.121374</td>\n",
              "      <td>23.528352</td>\n",
              "      <td>76.28237</td>\n",
              "      <td>21.453438</td>\n",
              "      <td>7.071068</td>\n",
              "    </tr>\n",
              "    <tr>\n",
              "      <th>min</th>\n",
              "      <td>20.000000</td>\n",
              "      <td>50.00</td>\n",
              "      <td>50.000000</td>\n",
              "      <td>40.000000</td>\n",
              "      <td>15.00000</td>\n",
              "      <td>50.000000</td>\n",
              "      <td>135.000000</td>\n",
              "    </tr>\n",
              "    <tr>\n",
              "      <th>25%</th>\n",
              "      <td>59.000000</td>\n",
              "      <td>53.75</td>\n",
              "      <td>114.500000</td>\n",
              "      <td>47.500000</td>\n",
              "      <td>44.25000</td>\n",
              "      <td>72.500000</td>\n",
              "      <td>142.500000</td>\n",
              "    </tr>\n",
              "    <tr>\n",
              "      <th>50%</th>\n",
              "      <td>250.500000</td>\n",
              "      <td>60.00</td>\n",
              "      <td>143.000000</td>\n",
              "      <td>57.500000</td>\n",
              "      <td>102.00000</td>\n",
              "      <td>87.500000</td>\n",
              "      <td>147.500000</td>\n",
              "    </tr>\n",
              "    <tr>\n",
              "      <th>75%</th>\n",
              "      <td>441.000000</td>\n",
              "      <td>65.00</td>\n",
              "      <td>150.000000</td>\n",
              "      <td>72.250000</td>\n",
              "      <td>156.25000</td>\n",
              "      <td>95.250000</td>\n",
              "      <td>150.000000</td>\n",
              "    </tr>\n",
              "    <tr>\n",
              "      <th>max</th>\n",
              "      <td>477.000000</td>\n",
              "      <td>65.00</td>\n",
              "      <td>150.000000</td>\n",
              "      <td>94.000000</td>\n",
              "      <td>175.00000</td>\n",
              "      <td>96.000000</td>\n",
              "      <td>150.000000</td>\n",
              "    </tr>\n",
              "  </tbody>\n",
              "</table>\n",
              "</div>\n",
              "      <button class=\"colab-df-convert\" onclick=\"convertToInteractive('df-24e47483-01c4-44a2-b962-e7e818937929')\"\n",
              "              title=\"Convert this dataframe to an interactive table.\"\n",
              "              style=\"display:none;\">\n",
              "        \n",
              "  <svg xmlns=\"http://www.w3.org/2000/svg\" height=\"24px\"viewBox=\"0 0 24 24\"\n",
              "       width=\"24px\">\n",
              "    <path d=\"M0 0h24v24H0V0z\" fill=\"none\"/>\n",
              "    <path d=\"M18.56 5.44l.94 2.06.94-2.06 2.06-.94-2.06-.94-.94-2.06-.94 2.06-2.06.94zm-11 1L8.5 8.5l.94-2.06 2.06-.94-2.06-.94L8.5 2.5l-.94 2.06-2.06.94zm10 10l.94 2.06.94-2.06 2.06-.94-2.06-.94-.94-2.06-.94 2.06-2.06.94z\"/><path d=\"M17.41 7.96l-1.37-1.37c-.4-.4-.92-.59-1.43-.59-.52 0-1.04.2-1.43.59L10.3 9.45l-7.72 7.72c-.78.78-.78 2.05 0 2.83L4 21.41c.39.39.9.59 1.41.59.51 0 1.02-.2 1.41-.59l7.78-7.78 2.81-2.81c.8-.78.8-2.07 0-2.86zM5.41 20L4 18.59l7.72-7.72 1.47 1.35L5.41 20z\"/>\n",
              "  </svg>\n",
              "      </button>\n",
              "      \n",
              "  <style>\n",
              "    .colab-df-container {\n",
              "      display:flex;\n",
              "      flex-wrap:wrap;\n",
              "      gap: 12px;\n",
              "    }\n",
              "\n",
              "    .colab-df-convert {\n",
              "      background-color: #E8F0FE;\n",
              "      border: none;\n",
              "      border-radius: 50%;\n",
              "      cursor: pointer;\n",
              "      display: none;\n",
              "      fill: #1967D2;\n",
              "      height: 32px;\n",
              "      padding: 0 0 0 0;\n",
              "      width: 32px;\n",
              "    }\n",
              "\n",
              "    .colab-df-convert:hover {\n",
              "      background-color: #E2EBFA;\n",
              "      box-shadow: 0px 1px 2px rgba(60, 64, 67, 0.3), 0px 1px 3px 1px rgba(60, 64, 67, 0.15);\n",
              "      fill: #174EA6;\n",
              "    }\n",
              "\n",
              "    [theme=dark] .colab-df-convert {\n",
              "      background-color: #3B4455;\n",
              "      fill: #D2E3FC;\n",
              "    }\n",
              "\n",
              "    [theme=dark] .colab-df-convert:hover {\n",
              "      background-color: #434B5C;\n",
              "      box-shadow: 0px 1px 3px 1px rgba(0, 0, 0, 0.15);\n",
              "      filter: drop-shadow(0px 1px 2px rgba(0, 0, 0, 0.3));\n",
              "      fill: #FFFFFF;\n",
              "    }\n",
              "  </style>\n",
              "\n",
              "      <script>\n",
              "        const buttonEl =\n",
              "          document.querySelector('#df-24e47483-01c4-44a2-b962-e7e818937929 button.colab-df-convert');\n",
              "        buttonEl.style.display =\n",
              "          google.colab.kernel.accessAllowed ? 'block' : 'none';\n",
              "\n",
              "        async function convertToInteractive(key) {\n",
              "          const element = document.querySelector('#df-24e47483-01c4-44a2-b962-e7e818937929');\n",
              "          const dataTable =\n",
              "            await google.colab.kernel.invokeFunction('convertToInteractive',\n",
              "                                                     [key], {});\n",
              "          if (!dataTable) return;\n",
              "\n",
              "          const docLinkHtml = 'Like what you see? Visit the ' +\n",
              "            '<a target=\"_blank\" href=https://colab.research.google.com/notebooks/data_table.ipynb>data table notebook</a>'\n",
              "            + ' to learn more about interactive tables.';\n",
              "          element.innerHTML = '';\n",
              "          dataTable['output_type'] = 'display_data';\n",
              "          await google.colab.output.renderOutput(dataTable, element);\n",
              "          const docLink = document.createElement('div');\n",
              "          docLink.innerHTML = docLinkHtml;\n",
              "          element.appendChild(docLink);\n",
              "        }\n",
              "      </script>\n",
              "    </div>\n",
              "  </div>\n",
              "  "
            ],
            "text/plain": [
              "              pid     HP      Attack  ...    Sp. Atk    Sp. Def       Speed\n",
              "count    4.000000   4.00    4.000000  ...    4.00000   4.000000    4.000000\n",
              "mean   249.500000  58.75  121.500000  ...   98.50000  80.250000  145.000000\n",
              "std    236.750924   7.50   48.121374  ...   76.28237  21.453438    7.071068\n",
              "min     20.000000  50.00   50.000000  ...   15.00000  50.000000  135.000000\n",
              "25%     59.000000  53.75  114.500000  ...   44.25000  72.500000  142.500000\n",
              "50%    250.500000  60.00  143.000000  ...  102.00000  87.500000  147.500000\n",
              "75%    441.000000  65.00  150.000000  ...  156.25000  95.250000  150.000000\n",
              "max    477.000000  65.00  150.000000  ...  175.00000  96.000000  150.000000\n",
              "\n",
              "[8 rows x 7 columns]"
            ]
          },
          "metadata": {},
          "execution_count": 126
        }
      ]
    },
    {
      "cell_type": "code",
      "source": [
        "pd_untreathed_pokemon = pokemon.drop(pd_treathed_pokemon.index)\n",
        "pd_untreathed_pokemon.describe()"
      ],
      "metadata": {
        "colab": {
          "base_uri": "https://localhost:8080/",
          "height": 300
        },
        "id": "LHV4D8Vk71zg",
        "outputId": "14ba5688-0582-43c1-8ee9-e446d9b27e05"
      },
      "execution_count": null,
      "outputs": [
        {
          "output_type": "execute_result",
          "data": {
            "text/html": [
              "\n",
              "  <div id=\"df-8b7cddbb-b760-4a91-9d98-064f18e0663a\">\n",
              "    <div class=\"colab-df-container\">\n",
              "      <div>\n",
              "<style scoped>\n",
              "    .dataframe tbody tr th:only-of-type {\n",
              "        vertical-align: middle;\n",
              "    }\n",
              "\n",
              "    .dataframe tbody tr th {\n",
              "        vertical-align: top;\n",
              "    }\n",
              "\n",
              "    .dataframe thead th {\n",
              "        text-align: right;\n",
              "    }\n",
              "</style>\n",
              "<table border=\"1\" class=\"dataframe\">\n",
              "  <thead>\n",
              "    <tr style=\"text-align: right;\">\n",
              "      <th></th>\n",
              "      <th>pid</th>\n",
              "      <th>HP</th>\n",
              "      <th>Attack</th>\n",
              "      <th>Defense</th>\n",
              "      <th>Sp. Atk</th>\n",
              "      <th>Sp. Def</th>\n",
              "      <th>Speed</th>\n",
              "    </tr>\n",
              "  </thead>\n",
              "  <tbody>\n",
              "    <tr>\n",
              "      <th>count</th>\n",
              "      <td>796.000000</td>\n",
              "      <td>796.000000</td>\n",
              "      <td>796.000000</td>\n",
              "      <td>796.000000</td>\n",
              "      <td>796.000000</td>\n",
              "      <td>796.000000</td>\n",
              "      <td>796.000000</td>\n",
              "    </tr>\n",
              "    <tr>\n",
              "      <th>mean</th>\n",
              "      <td>401.258794</td>\n",
              "      <td>69.311558</td>\n",
              "      <td>78.787688</td>\n",
              "      <td>73.900754</td>\n",
              "      <td>72.690955</td>\n",
              "      <td>71.860553</td>\n",
              "      <td>67.891960</td>\n",
              "    </tr>\n",
              "    <tr>\n",
              "      <th>std</th>\n",
              "      <td>230.958584</td>\n",
              "      <td>25.583769</td>\n",
              "      <td>32.263130</td>\n",
              "      <td>31.217540</td>\n",
              "      <td>32.416705</td>\n",
              "      <td>27.861371</td>\n",
              "      <td>28.614785</td>\n",
              "    </tr>\n",
              "    <tr>\n",
              "      <th>min</th>\n",
              "      <td>1.000000</td>\n",
              "      <td>1.000000</td>\n",
              "      <td>5.000000</td>\n",
              "      <td>5.000000</td>\n",
              "      <td>10.000000</td>\n",
              "      <td>20.000000</td>\n",
              "      <td>5.000000</td>\n",
              "    </tr>\n",
              "    <tr>\n",
              "      <th>25%</th>\n",
              "      <td>201.750000</td>\n",
              "      <td>50.000000</td>\n",
              "      <td>55.000000</td>\n",
              "      <td>50.000000</td>\n",
              "      <td>49.750000</td>\n",
              "      <td>50.000000</td>\n",
              "      <td>45.000000</td>\n",
              "    </tr>\n",
              "    <tr>\n",
              "      <th>50%</th>\n",
              "      <td>400.500000</td>\n",
              "      <td>65.000000</td>\n",
              "      <td>75.000000</td>\n",
              "      <td>70.000000</td>\n",
              "      <td>65.000000</td>\n",
              "      <td>70.000000</td>\n",
              "      <td>65.000000</td>\n",
              "    </tr>\n",
              "    <tr>\n",
              "      <th>75%</th>\n",
              "      <td>601.250000</td>\n",
              "      <td>80.000000</td>\n",
              "      <td>100.000000</td>\n",
              "      <td>90.000000</td>\n",
              "      <td>95.000000</td>\n",
              "      <td>90.000000</td>\n",
              "      <td>90.000000</td>\n",
              "    </tr>\n",
              "    <tr>\n",
              "      <th>max</th>\n",
              "      <td>800.000000</td>\n",
              "      <td>255.000000</td>\n",
              "      <td>190.000000</td>\n",
              "      <td>230.000000</td>\n",
              "      <td>194.000000</td>\n",
              "      <td>230.000000</td>\n",
              "      <td>180.000000</td>\n",
              "    </tr>\n",
              "  </tbody>\n",
              "</table>\n",
              "</div>\n",
              "      <button class=\"colab-df-convert\" onclick=\"convertToInteractive('df-8b7cddbb-b760-4a91-9d98-064f18e0663a')\"\n",
              "              title=\"Convert this dataframe to an interactive table.\"\n",
              "              style=\"display:none;\">\n",
              "        \n",
              "  <svg xmlns=\"http://www.w3.org/2000/svg\" height=\"24px\"viewBox=\"0 0 24 24\"\n",
              "       width=\"24px\">\n",
              "    <path d=\"M0 0h24v24H0V0z\" fill=\"none\"/>\n",
              "    <path d=\"M18.56 5.44l.94 2.06.94-2.06 2.06-.94-2.06-.94-.94-2.06-.94 2.06-2.06.94zm-11 1L8.5 8.5l.94-2.06 2.06-.94-2.06-.94L8.5 2.5l-.94 2.06-2.06.94zm10 10l.94 2.06.94-2.06 2.06-.94-2.06-.94-.94-2.06-.94 2.06-2.06.94z\"/><path d=\"M17.41 7.96l-1.37-1.37c-.4-.4-.92-.59-1.43-.59-.52 0-1.04.2-1.43.59L10.3 9.45l-7.72 7.72c-.78.78-.78 2.05 0 2.83L4 21.41c.39.39.9.59 1.41.59.51 0 1.02-.2 1.41-.59l7.78-7.78 2.81-2.81c.8-.78.8-2.07 0-2.86zM5.41 20L4 18.59l7.72-7.72 1.47 1.35L5.41 20z\"/>\n",
              "  </svg>\n",
              "      </button>\n",
              "      \n",
              "  <style>\n",
              "    .colab-df-container {\n",
              "      display:flex;\n",
              "      flex-wrap:wrap;\n",
              "      gap: 12px;\n",
              "    }\n",
              "\n",
              "    .colab-df-convert {\n",
              "      background-color: #E8F0FE;\n",
              "      border: none;\n",
              "      border-radius: 50%;\n",
              "      cursor: pointer;\n",
              "      display: none;\n",
              "      fill: #1967D2;\n",
              "      height: 32px;\n",
              "      padding: 0 0 0 0;\n",
              "      width: 32px;\n",
              "    }\n",
              "\n",
              "    .colab-df-convert:hover {\n",
              "      background-color: #E2EBFA;\n",
              "      box-shadow: 0px 1px 2px rgba(60, 64, 67, 0.3), 0px 1px 3px 1px rgba(60, 64, 67, 0.15);\n",
              "      fill: #174EA6;\n",
              "    }\n",
              "\n",
              "    [theme=dark] .colab-df-convert {\n",
              "      background-color: #3B4455;\n",
              "      fill: #D2E3FC;\n",
              "    }\n",
              "\n",
              "    [theme=dark] .colab-df-convert:hover {\n",
              "      background-color: #434B5C;\n",
              "      box-shadow: 0px 1px 3px 1px rgba(0, 0, 0, 0.15);\n",
              "      filter: drop-shadow(0px 1px 2px rgba(0, 0, 0, 0.3));\n",
              "      fill: #FFFFFF;\n",
              "    }\n",
              "  </style>\n",
              "\n",
              "      <script>\n",
              "        const buttonEl =\n",
              "          document.querySelector('#df-8b7cddbb-b760-4a91-9d98-064f18e0663a button.colab-df-convert');\n",
              "        buttonEl.style.display =\n",
              "          google.colab.kernel.accessAllowed ? 'block' : 'none';\n",
              "\n",
              "        async function convertToInteractive(key) {\n",
              "          const element = document.querySelector('#df-8b7cddbb-b760-4a91-9d98-064f18e0663a');\n",
              "          const dataTable =\n",
              "            await google.colab.kernel.invokeFunction('convertToInteractive',\n",
              "                                                     [key], {});\n",
              "          if (!dataTable) return;\n",
              "\n",
              "          const docLinkHtml = 'Like what you see? Visit the ' +\n",
              "            '<a target=\"_blank\" href=https://colab.research.google.com/notebooks/data_table.ipynb>data table notebook</a>'\n",
              "            + ' to learn more about interactive tables.';\n",
              "          element.innerHTML = '';\n",
              "          dataTable['output_type'] = 'display_data';\n",
              "          await google.colab.output.renderOutput(dataTable, element);\n",
              "          const docLink = document.createElement('div');\n",
              "          docLink.innerHTML = docLinkHtml;\n",
              "          element.appendChild(docLink);\n",
              "        }\n",
              "      </script>\n",
              "    </div>\n",
              "  </div>\n",
              "  "
            ],
            "text/plain": [
              "              pid          HP      Attack  ...     Sp. Atk     Sp. Def       Speed\n",
              "count  796.000000  796.000000  796.000000  ...  796.000000  796.000000  796.000000\n",
              "mean   401.258794   69.311558   78.787688  ...   72.690955   71.860553   67.891960\n",
              "std    230.958584   25.583769   32.263130  ...   32.416705   27.861371   28.614785\n",
              "min      1.000000    1.000000    5.000000  ...   10.000000   20.000000    5.000000\n",
              "25%    201.750000   50.000000   55.000000  ...   49.750000   50.000000   45.000000\n",
              "50%    400.500000   65.000000   75.000000  ...   65.000000   70.000000   65.000000\n",
              "75%    601.250000   80.000000  100.000000  ...   95.000000   90.000000   90.000000\n",
              "max    800.000000  255.000000  190.000000  ...  194.000000  230.000000  180.000000\n",
              "\n",
              "[8 rows x 7 columns]"
            ]
          },
          "metadata": {},
          "execution_count": 127
        }
      ]
    },
    {
      "cell_type": "code",
      "source": [
        "# Не можем сравнивать выборки, в которых N= 4 и N = 796. С помощью бустрапа увеличим объем выборки покемонов, которым дали лекарство\n",
        "plt.figure(figsize=(15, 10))\n",
        "\n",
        "# берем 1000 выборок с помощью семплирования (frac - доля возвращаемых элементов, 1 - возвращаем весь столбец; replace - возможность использовать ту же самую строку несколько раз в одном семпле: ведет к повторению строк--> разные средние значения)\n",
        "boot_1d = []\n",
        "for i in range(700):\n",
        "    boot_mean = pd_treathed_pokemon.sample(frac = 1, replace = True)['Speed'].mean()  #retention_7\n",
        "    boot_1d.append(boot_mean)\n",
        "    \n",
        "# Преобразование списка в DataFrame\n",
        "boot_1d = pd.DataFrame(boot_1d, columns = ['mean'])\n",
        "    \n",
        "# A Kernel Density Estimate plot of the bootstrap distributions\n",
        "boot_1d.plot(kind='density')"
      ],
      "metadata": {
        "colab": {
          "base_uri": "https://localhost:8080/",
          "height": 302
        },
        "id": "hNTy7MYz614O",
        "outputId": "c68d11d9-05a5-4b19-9a2a-696a91b505e4"
      },
      "execution_count": null,
      "outputs": [
        {
          "output_type": "execute_result",
          "data": {
            "text/plain": [
              "<matplotlib.axes._subplots.AxesSubplot at 0x7f68bb40ad90>"
            ]
          },
          "metadata": {},
          "execution_count": 136
        },
        {
          "output_type": "display_data",
          "data": {
            "text/plain": [
              "<Figure size 1080x720 with 0 Axes>"
            ]
          },
          "metadata": {}
        },
        {
          "output_type": "display_data",
          "data": {
            "image/png": "[encoded data removed]",
            "text/plain": [
              "<Figure size 432x288 with 1 Axes>"
            ]
          },
          "metadata": {
            "needs_background": "light"
          }
        }
      ]
    },
    {
      "cell_type": "code",
      "source": [
        "boot_1d.describe()\n",
        "# Средняя скорость получивших ускорение покемонов увеличилась незначительно после бустрапа"
      ],
      "metadata": {
        "colab": {
          "base_uri": "https://localhost:8080/",
          "height": 300
        },
        "id": "Ufl-KcPf6Vuc",
        "outputId": "17ca03e0-ddae-443e-b21d-d3c1664107d5"
      },
      "execution_count": null,
      "outputs": [
        {
          "output_type": "execute_result",
          "data": {
            "text/html": [
              "\n",
              "  <div id=\"df-145a014a-354e-4afc-ae45-e27be4f01570\">\n",
              "    <div class=\"colab-df-container\">\n",
              "      <div>\n",
              "<style scoped>\n",
              "    .dataframe tbody tr th:only-of-type {\n",
              "        vertical-align: middle;\n",
              "    }\n",
              "\n",
              "    .dataframe tbody tr th {\n",
              "        vertical-align: top;\n",
              "    }\n",
              "\n",
              "    .dataframe thead th {\n",
              "        text-align: right;\n",
              "    }\n",
              "</style>\n",
              "<table border=\"1\" class=\"dataframe\">\n",
              "  <thead>\n",
              "    <tr style=\"text-align: right;\">\n",
              "      <th></th>\n",
              "      <th>0</th>\n",
              "    </tr>\n",
              "  </thead>\n",
              "  <tbody>\n",
              "    <tr>\n",
              "      <th>count</th>\n",
              "      <td>700.000000</td>\n",
              "    </tr>\n",
              "    <tr>\n",
              "      <th>mean</th>\n",
              "      <td>145.137500</td>\n",
              "    </tr>\n",
              "    <tr>\n",
              "      <th>std</th>\n",
              "      <td>3.166844</td>\n",
              "    </tr>\n",
              "    <tr>\n",
              "      <th>min</th>\n",
              "      <td>135.000000</td>\n",
              "    </tr>\n",
              "    <tr>\n",
              "      <th>25%</th>\n",
              "      <td>142.500000</td>\n",
              "    </tr>\n",
              "    <tr>\n",
              "      <th>50%</th>\n",
              "      <td>145.000000</td>\n",
              "    </tr>\n",
              "    <tr>\n",
              "      <th>75%</th>\n",
              "      <td>147.500000</td>\n",
              "    </tr>\n",
              "    <tr>\n",
              "      <th>max</th>\n",
              "      <td>150.000000</td>\n",
              "    </tr>\n",
              "  </tbody>\n",
              "</table>\n",
              "</div>\n",
              "      <button class=\"colab-df-convert\" onclick=\"convertToInteractive('df-145a014a-354e-4afc-ae45-e27be4f01570')\"\n",
              "              title=\"Convert this dataframe to an interactive table.\"\n",
              "              style=\"display:none;\">\n",
              "        \n",
              "  <svg xmlns=\"http://www.w3.org/2000/svg\" height=\"24px\"viewBox=\"0 0 24 24\"\n",
              "       width=\"24px\">\n",
              "    <path d=\"M0 0h24v24H0V0z\" fill=\"none\"/>\n",
              "    <path d=\"M18.56 5.44l.94 2.06.94-2.06 2.06-.94-2.06-.94-.94-2.06-.94 2.06-2.06.94zm-11 1L8.5 8.5l.94-2.06 2.06-.94-2.06-.94L8.5 2.5l-.94 2.06-2.06.94zm10 10l.94 2.06.94-2.06 2.06-.94-2.06-.94-.94-2.06-.94 2.06-2.06.94z\"/><path d=\"M17.41 7.96l-1.37-1.37c-.4-.4-.92-.59-1.43-.59-.52 0-1.04.2-1.43.59L10.3 9.45l-7.72 7.72c-.78.78-.78 2.05 0 2.83L4 21.41c.39.39.9.59 1.41.59.51 0 1.02-.2 1.41-.59l7.78-7.78 2.81-2.81c.8-.78.8-2.07 0-2.86zM5.41 20L4 18.59l7.72-7.72 1.47 1.35L5.41 20z\"/>\n",
              "  </svg>\n",
              "      </button>\n",
              "      \n",
              "  <style>\n",
              "    .colab-df-container {\n",
              "      display:flex;\n",
              "      flex-wrap:wrap;\n",
              "      gap: 12px;\n",
              "    }\n",
              "\n",
              "    .colab-df-convert {\n",
              "      background-color: #E8F0FE;\n",
              "      border: none;\n",
              "      border-radius: 50%;\n",
              "      cursor: pointer;\n",
              "      display: none;\n",
              "      fill: #1967D2;\n",
              "      height: 32px;\n",
              "      padding: 0 0 0 0;\n",
              "      width: 32px;\n",
              "    }\n",
              "\n",
              "    .colab-df-convert:hover {\n",
              "      background-color: #E2EBFA;\n",
              "      box-shadow: 0px 1px 2px rgba(60, 64, 67, 0.3), 0px 1px 3px 1px rgba(60, 64, 67, 0.15);\n",
              "      fill: #174EA6;\n",
              "    }\n",
              "\n",
              "    [theme=dark] .colab-df-convert {\n",
              "      background-color: #3B4455;\n",
              "      fill: #D2E3FC;\n",
              "    }\n",
              "\n",
              "    [theme=dark] .colab-df-convert:hover {\n",
              "      background-color: #434B5C;\n",
              "      box-shadow: 0px 1px 3px 1px rgba(0, 0, 0, 0.15);\n",
              "      filter: drop-shadow(0px 1px 2px rgba(0, 0, 0, 0.3));\n",
              "      fill: #FFFFFF;\n",
              "    }\n",
              "  </style>\n",
              "\n",
              "      <script>\n",
              "        const buttonEl =\n",
              "          document.querySelector('#df-145a014a-354e-4afc-ae45-e27be4f01570 button.colab-df-convert');\n",
              "        buttonEl.style.display =\n",
              "          google.colab.kernel.accessAllowed ? 'block' : 'none';\n",
              "\n",
              "        async function convertToInteractive(key) {\n",
              "          const element = document.querySelector('#df-145a014a-354e-4afc-ae45-e27be4f01570');\n",
              "          const dataTable =\n",
              "            await google.colab.kernel.invokeFunction('convertToInteractive',\n",
              "                                                     [key], {});\n",
              "          if (!dataTable) return;\n",
              "\n",
              "          const docLinkHtml = 'Like what you see? Visit the ' +\n",
              "            '<a target=\"_blank\" href=https://colab.research.google.com/notebooks/data_table.ipynb>data table notebook</a>'\n",
              "            + ' to learn more about interactive tables.';\n",
              "          element.innerHTML = '';\n",
              "          dataTable['output_type'] = 'display_data';\n",
              "          await google.colab.output.renderOutput(dataTable, element);\n",
              "          const docLink = document.createElement('div');\n",
              "          docLink.innerHTML = docLinkHtml;\n",
              "          element.appendChild(docLink);\n",
              "        }\n",
              "      </script>\n",
              "    </div>\n",
              "  </div>\n",
              "  "
            ],
            "text/plain": [
              "                0\n",
              "count  700.000000\n",
              "mean   145.137500\n",
              "std      3.166844\n",
              "min    135.000000\n",
              "25%    142.500000\n",
              "50%    145.000000\n",
              "75%    147.500000\n",
              "max    150.000000"
            ]
          },
          "metadata": {},
          "execution_count": 129
        }
      ]
    },
    {
      "cell_type": "code",
      "source": [
        "from scipy.stats import mannwhitneyu\n",
        "stat, p = mannwhitneyu(pd_untreathed_pokemon['Speed'], boot_1d['mean'])\n",
        "p\n",
        "\n",
        "# H0 отклоняем, принимаем альтернативную гипотезу: сыворотка работает"
      ],
      "metadata": {
        "colab": {
          "base_uri": "https://localhost:8080/"
        },
        "id": "sO7gx5565KMO",
        "outputId": "9b972e5f-abab-4a43-d83a-f99626899448"
      },
      "execution_count": null,
      "outputs": [
        {
          "output_type": "execute_result",
          "data": {
            "text/plain": [
              "1.2086876376095906e-239"
            ]
          },
          "metadata": {},
          "execution_count": 139
        }
      ]
    },
    {
      "cell_type": "markdown",
      "source": [
        "**Задание № 6:**\n",
        "Профессор Оук частенько наблюдает за боями покемонов. После очередных таких боев Оук выделил три класса best_defence_class, которые на его взгляд одинаковы по \"силе обычной защиты\" Defense. Проверьте, действительно ли эти классы покемонов не отличаются по уровню защиты статистически значимо? Все та же статистика вам в помощь!\n",
        "\n"
      ],
      "metadata": {
        "id": "LqVb7d6q-k8v"
      }
    },
    {
      "cell_type": "code",
      "source": [
        "best_defence_class = ['Rock', 'Ground','Steel','Ice']"
      ],
      "metadata": {
        "id": "dqaIJJ0U-nPh"
      },
      "execution_count": null,
      "outputs": []
    },
    {
      "cell_type": "code",
      "source": [
        "pokemon_Rock = pokemon[(pokemon['Class 1'] == 'Rock') |(pokemon['Class 2'] == 'Rock') ]['Defense']\n",
        "pokemon_Rock.describe()"
      ],
      "metadata": {
        "colab": {
          "base_uri": "https://localhost:8080/"
        },
        "id": "fdwsSUzK-qph",
        "outputId": "41cac489-5a11-4782-b201-c225224f5e19"
      },
      "execution_count": null,
      "outputs": [
        {
          "output_type": "execute_result",
          "data": {
            "text/plain": [
              "count     58.000000\n",
              "mean     107.086207\n",
              "std       38.373641\n",
              "min       40.000000\n",
              "25%       85.000000\n",
              "50%      104.000000\n",
              "75%      130.000000\n",
              "max      230.000000\n",
              "Name: Defense, dtype: float64"
            ]
          },
          "metadata": {},
          "execution_count": 147
        }
      ]
    },
    {
      "cell_type": "code",
      "source": [
        "pokemon[(pokemon['Class 1'] == 'Rock') |(pokemon['Class 2'] == 'Rock') ]"
      ],
      "metadata": {
        "colab": {
          "base_uri": "https://localhost:8080/",
          "height": 1000
        },
        "id": "bZhxE4XiBOdu",
        "outputId": "9f9c547d-9b6b-44df-b300-6a1bb2b78fea"
      },
      "execution_count": null,
      "outputs": [
        {
          "output_type": "execute_result",
          "data": {
            "text/html": [
              "\n",
              "  <div id=\"df-0adb119d-20da-4ad1-a0b4-c2f7bcba20fd\">\n",
              "    <div class=\"colab-df-container\">\n",
              "      <div>\n",
              "<style scoped>\n",
              "    .dataframe tbody tr th:only-of-type {\n",
              "        vertical-align: middle;\n",
              "    }\n",
              "\n",
              "    .dataframe tbody tr th {\n",
              "        vertical-align: top;\n",
              "    }\n",
              "\n",
              "    .dataframe thead th {\n",
              "        text-align: right;\n",
              "    }\n",
              "</style>\n",
              "<table border=\"1\" class=\"dataframe\">\n",
              "  <thead>\n",
              "    <tr style=\"text-align: right;\">\n",
              "      <th></th>\n",
              "      <th>pid</th>\n",
              "      <th>Name</th>\n",
              "      <th>Class 1</th>\n",
              "      <th>Class 2</th>\n",
              "      <th>HP</th>\n",
              "      <th>Attack</th>\n",
              "      <th>Defense</th>\n",
              "      <th>Sp. Atk</th>\n",
              "      <th>Sp. Def</th>\n",
              "      <th>Speed</th>\n",
              "      <th>Legendary</th>\n",
              "    </tr>\n",
              "  </thead>\n",
              "  <tbody>\n",
              "    <tr>\n",
              "      <th>80</th>\n",
              "      <td>81</td>\n",
              "      <td>Geodude</td>\n",
              "      <td>Rock</td>\n",
              "      <td>Ground</td>\n",
              "      <td>40</td>\n",
              "      <td>80</td>\n",
              "      <td>100</td>\n",
              "      <td>30</td>\n",
              "      <td>30</td>\n",
              "      <td>20</td>\n",
              "      <td>False</td>\n",
              "    </tr>\n",
              "    <tr>\n",
              "      <th>81</th>\n",
              "      <td>82</td>\n",
              "      <td>Graveler</td>\n",
              "      <td>Rock</td>\n",
              "      <td>Ground</td>\n",
              "      <td>55</td>\n",
              "      <td>95</td>\n",
              "      <td>115</td>\n",
              "      <td>45</td>\n",
              "      <td>45</td>\n",
              "      <td>35</td>\n",
              "      <td>False</td>\n",
              "    </tr>\n",
              "    <tr>\n",
              "      <th>82</th>\n",
              "      <td>83</td>\n",
              "      <td>Golem</td>\n",
              "      <td>Rock</td>\n",
              "      <td>Ground</td>\n",
              "      <td>80</td>\n",
              "      <td>120</td>\n",
              "      <td>130</td>\n",
              "      <td>55</td>\n",
              "      <td>65</td>\n",
              "      <td>45</td>\n",
              "      <td>False</td>\n",
              "    </tr>\n",
              "    <tr>\n",
              "      <th>103</th>\n",
              "      <td>104</td>\n",
              "      <td>Onix</td>\n",
              "      <td>Rock</td>\n",
              "      <td>Ground</td>\n",
              "      <td>35</td>\n",
              "      <td>45</td>\n",
              "      <td>160</td>\n",
              "      <td>30</td>\n",
              "      <td>45</td>\n",
              "      <td>70</td>\n",
              "      <td>False</td>\n",
              "    </tr>\n",
              "    <tr>\n",
              "      <th>119</th>\n",
              "      <td>120</td>\n",
              "      <td>Rhyhorn</td>\n",
              "      <td>Ground</td>\n",
              "      <td>Rock</td>\n",
              "      <td>80</td>\n",
              "      <td>85</td>\n",
              "      <td>95</td>\n",
              "      <td>30</td>\n",
              "      <td>30</td>\n",
              "      <td>25</td>\n",
              "      <td>False</td>\n",
              "    </tr>\n",
              "    <tr>\n",
              "      <th>120</th>\n",
              "      <td>121</td>\n",
              "      <td>Rhydon</td>\n",
              "      <td>Ground</td>\n",
              "      <td>Rock</td>\n",
              "      <td>105</td>\n",
              "      <td>130</td>\n",
              "      <td>120</td>\n",
              "      <td>45</td>\n",
              "      <td>45</td>\n",
              "      <td>40</td>\n",
              "      <td>False</td>\n",
              "    </tr>\n",
              "    <tr>\n",
              "      <th>149</th>\n",
              "      <td>150</td>\n",
              "      <td>Omanyte</td>\n",
              "      <td>Rock</td>\n",
              "      <td>Water</td>\n",
              "      <td>35</td>\n",
              "      <td>40</td>\n",
              "      <td>100</td>\n",
              "      <td>90</td>\n",
              "      <td>55</td>\n",
              "      <td>35</td>\n",
              "      <td>False</td>\n",
              "    </tr>\n",
              "    <tr>\n",
              "      <th>150</th>\n",
              "      <td>151</td>\n",
              "      <td>Omastar</td>\n",
              "      <td>Rock</td>\n",
              "      <td>Water</td>\n",
              "      <td>70</td>\n",
              "      <td>60</td>\n",
              "      <td>125</td>\n",
              "      <td>115</td>\n",
              "      <td>70</td>\n",
              "      <td>55</td>\n",
              "      <td>False</td>\n",
              "    </tr>\n",
              "    <tr>\n",
              "      <th>151</th>\n",
              "      <td>152</td>\n",
              "      <td>Kabuto</td>\n",
              "      <td>Rock</td>\n",
              "      <td>Water</td>\n",
              "      <td>30</td>\n",
              "      <td>80</td>\n",
              "      <td>90</td>\n",
              "      <td>55</td>\n",
              "      <td>45</td>\n",
              "      <td>55</td>\n",
              "      <td>False</td>\n",
              "    </tr>\n",
              "    <tr>\n",
              "      <th>152</th>\n",
              "      <td>153</td>\n",
              "      <td>Kabutops</td>\n",
              "      <td>Rock</td>\n",
              "      <td>Water</td>\n",
              "      <td>60</td>\n",
              "      <td>115</td>\n",
              "      <td>105</td>\n",
              "      <td>65</td>\n",
              "      <td>70</td>\n",
              "      <td>80</td>\n",
              "      <td>False</td>\n",
              "    </tr>\n",
              "    <tr>\n",
              "      <th>153</th>\n",
              "      <td>154</td>\n",
              "      <td>Aerodactyl</td>\n",
              "      <td>Rock</td>\n",
              "      <td>Flying</td>\n",
              "      <td>80</td>\n",
              "      <td>105</td>\n",
              "      <td>65</td>\n",
              "      <td>60</td>\n",
              "      <td>75</td>\n",
              "      <td>130</td>\n",
              "      <td>False</td>\n",
              "    </tr>\n",
              "    <tr>\n",
              "      <th>154</th>\n",
              "      <td>155</td>\n",
              "      <td>Mega Aerodactyl</td>\n",
              "      <td>Rock</td>\n",
              "      <td>Flying</td>\n",
              "      <td>80</td>\n",
              "      <td>135</td>\n",
              "      <td>85</td>\n",
              "      <td>70</td>\n",
              "      <td>95</td>\n",
              "      <td>150</td>\n",
              "      <td>False</td>\n",
              "    </tr>\n",
              "    <tr>\n",
              "      <th>200</th>\n",
              "      <td>201</td>\n",
              "      <td>Sudowoodo</td>\n",
              "      <td>Rock</td>\n",
              "      <td>NaN</td>\n",
              "      <td>70</td>\n",
              "      <td>100</td>\n",
              "      <td>115</td>\n",
              "      <td>30</td>\n",
              "      <td>65</td>\n",
              "      <td>30</td>\n",
              "      <td>False</td>\n",
              "    </tr>\n",
              "    <tr>\n",
              "      <th>230</th>\n",
              "      <td>231</td>\n",
              "      <td>Shuckle</td>\n",
              "      <td>Bug</td>\n",
              "      <td>Rock</td>\n",
              "      <td>20</td>\n",
              "      <td>10</td>\n",
              "      <td>230</td>\n",
              "      <td>10</td>\n",
              "      <td>230</td>\n",
              "      <td>5</td>\n",
              "      <td>False</td>\n",
              "    </tr>\n",
              "    <tr>\n",
              "      <th>237</th>\n",
              "      <td>238</td>\n",
              "      <td>Magcargo</td>\n",
              "      <td>Fire</td>\n",
              "      <td>Rock</td>\n",
              "      <td>50</td>\n",
              "      <td>50</td>\n",
              "      <td>120</td>\n",
              "      <td>80</td>\n",
              "      <td>80</td>\n",
              "      <td>30</td>\n",
              "      <td>False</td>\n",
              "    </tr>\n",
              "    <tr>\n",
              "      <th>240</th>\n",
              "      <td>241</td>\n",
              "      <td>Corsola</td>\n",
              "      <td>Water</td>\n",
              "      <td>Rock</td>\n",
              "      <td>55</td>\n",
              "      <td>55</td>\n",
              "      <td>85</td>\n",
              "      <td>65</td>\n",
              "      <td>85</td>\n",
              "      <td>35</td>\n",
              "      <td>False</td>\n",
              "    </tr>\n",
              "    <tr>\n",
              "      <th>265</th>\n",
              "      <td>266</td>\n",
              "      <td>Larvitar</td>\n",
              "      <td>Rock</td>\n",
              "      <td>Ground</td>\n",
              "      <td>50</td>\n",
              "      <td>64</td>\n",
              "      <td>50</td>\n",
              "      <td>45</td>\n",
              "      <td>50</td>\n",
              "      <td>41</td>\n",
              "      <td>False</td>\n",
              "    </tr>\n",
              "    <tr>\n",
              "      <th>266</th>\n",
              "      <td>267</td>\n",
              "      <td>Pupitar</td>\n",
              "      <td>Rock</td>\n",
              "      <td>Ground</td>\n",
              "      <td>70</td>\n",
              "      <td>84</td>\n",
              "      <td>70</td>\n",
              "      <td>65</td>\n",
              "      <td>70</td>\n",
              "      <td>51</td>\n",
              "      <td>False</td>\n",
              "    </tr>\n",
              "    <tr>\n",
              "      <th>267</th>\n",
              "      <td>268</td>\n",
              "      <td>Tyranitar</td>\n",
              "      <td>Rock</td>\n",
              "      <td>Dark</td>\n",
              "      <td>100</td>\n",
              "      <td>134</td>\n",
              "      <td>110</td>\n",
              "      <td>95</td>\n",
              "      <td>100</td>\n",
              "      <td>61</td>\n",
              "      <td>False</td>\n",
              "    </tr>\n",
              "    <tr>\n",
              "      <th>268</th>\n",
              "      <td>269</td>\n",
              "      <td>Mega Tyranitar</td>\n",
              "      <td>Rock</td>\n",
              "      <td>Dark</td>\n",
              "      <td>100</td>\n",
              "      <td>164</td>\n",
              "      <td>150</td>\n",
              "      <td>95</td>\n",
              "      <td>120</td>\n",
              "      <td>71</td>\n",
              "      <td>False</td>\n",
              "    </tr>\n",
              "    <tr>\n",
              "      <th>323</th>\n",
              "      <td>324</td>\n",
              "      <td>Nosepass</td>\n",
              "      <td>Rock</td>\n",
              "      <td>NaN</td>\n",
              "      <td>30</td>\n",
              "      <td>45</td>\n",
              "      <td>135</td>\n",
              "      <td>45</td>\n",
              "      <td>90</td>\n",
              "      <td>30</td>\n",
              "      <td>False</td>\n",
              "    </tr>\n",
              "    <tr>\n",
              "      <th>330</th>\n",
              "      <td>331</td>\n",
              "      <td>Aron</td>\n",
              "      <td>Steel</td>\n",
              "      <td>Rock</td>\n",
              "      <td>50</td>\n",
              "      <td>70</td>\n",
              "      <td>100</td>\n",
              "      <td>40</td>\n",
              "      <td>40</td>\n",
              "      <td>30</td>\n",
              "      <td>False</td>\n",
              "    </tr>\n",
              "    <tr>\n",
              "      <th>331</th>\n",
              "      <td>332</td>\n",
              "      <td>Lairon</td>\n",
              "      <td>Steel</td>\n",
              "      <td>Rock</td>\n",
              "      <td>60</td>\n",
              "      <td>90</td>\n",
              "      <td>140</td>\n",
              "      <td>50</td>\n",
              "      <td>50</td>\n",
              "      <td>40</td>\n",
              "      <td>False</td>\n",
              "    </tr>\n",
              "    <tr>\n",
              "      <th>332</th>\n",
              "      <td>333</td>\n",
              "      <td>Aggron</td>\n",
              "      <td>Steel</td>\n",
              "      <td>Rock</td>\n",
              "      <td>70</td>\n",
              "      <td>110</td>\n",
              "      <td>180</td>\n",
              "      <td>60</td>\n",
              "      <td>60</td>\n",
              "      <td>50</td>\n",
              "      <td>False</td>\n",
              "    </tr>\n",
              "    <tr>\n",
              "      <th>369</th>\n",
              "      <td>370</td>\n",
              "      <td>Lunatone</td>\n",
              "      <td>Rock</td>\n",
              "      <td>Psychic</td>\n",
              "      <td>70</td>\n",
              "      <td>55</td>\n",
              "      <td>65</td>\n",
              "      <td>95</td>\n",
              "      <td>85</td>\n",
              "      <td>70</td>\n",
              "      <td>False</td>\n",
              "    </tr>\n",
              "    <tr>\n",
              "      <th>370</th>\n",
              "      <td>371</td>\n",
              "      <td>Solrock</td>\n",
              "      <td>Rock</td>\n",
              "      <td>Psychic</td>\n",
              "      <td>70</td>\n",
              "      <td>95</td>\n",
              "      <td>85</td>\n",
              "      <td>55</td>\n",
              "      <td>65</td>\n",
              "      <td>70</td>\n",
              "      <td>False</td>\n",
              "    </tr>\n",
              "    <tr>\n",
              "      <th>377</th>\n",
              "      <td>378</td>\n",
              "      <td>Lileep</td>\n",
              "      <td>Rock</td>\n",
              "      <td>Grass</td>\n",
              "      <td>66</td>\n",
              "      <td>41</td>\n",
              "      <td>77</td>\n",
              "      <td>61</td>\n",
              "      <td>87</td>\n",
              "      <td>23</td>\n",
              "      <td>False</td>\n",
              "    </tr>\n",
              "    <tr>\n",
              "      <th>378</th>\n",
              "      <td>379</td>\n",
              "      <td>Cradily</td>\n",
              "      <td>Rock</td>\n",
              "      <td>Grass</td>\n",
              "      <td>86</td>\n",
              "      <td>81</td>\n",
              "      <td>97</td>\n",
              "      <td>81</td>\n",
              "      <td>107</td>\n",
              "      <td>43</td>\n",
              "      <td>False</td>\n",
              "    </tr>\n",
              "    <tr>\n",
              "      <th>379</th>\n",
              "      <td>380</td>\n",
              "      <td>Anorith</td>\n",
              "      <td>Rock</td>\n",
              "      <td>Bug</td>\n",
              "      <td>45</td>\n",
              "      <td>95</td>\n",
              "      <td>50</td>\n",
              "      <td>40</td>\n",
              "      <td>50</td>\n",
              "      <td>75</td>\n",
              "      <td>False</td>\n",
              "    </tr>\n",
              "    <tr>\n",
              "      <th>380</th>\n",
              "      <td>381</td>\n",
              "      <td>Armaldo</td>\n",
              "      <td>Rock</td>\n",
              "      <td>Bug</td>\n",
              "      <td>75</td>\n",
              "      <td>125</td>\n",
              "      <td>100</td>\n",
              "      <td>70</td>\n",
              "      <td>80</td>\n",
              "      <td>45</td>\n",
              "      <td>False</td>\n",
              "    </tr>\n",
              "    <tr>\n",
              "      <th>404</th>\n",
              "      <td>405</td>\n",
              "      <td>Relicanth</td>\n",
              "      <td>Water</td>\n",
              "      <td>Rock</td>\n",
              "      <td>100</td>\n",
              "      <td>90</td>\n",
              "      <td>130</td>\n",
              "      <td>45</td>\n",
              "      <td>65</td>\n",
              "      <td>55</td>\n",
              "      <td>False</td>\n",
              "    </tr>\n",
              "    <tr>\n",
              "      <th>414</th>\n",
              "      <td>415</td>\n",
              "      <td>Regirock</td>\n",
              "      <td>Rock</td>\n",
              "      <td>NaN</td>\n",
              "      <td>80</td>\n",
              "      <td>100</td>\n",
              "      <td>200</td>\n",
              "      <td>50</td>\n",
              "      <td>100</td>\n",
              "      <td>50</td>\n",
              "      <td>True</td>\n",
              "    </tr>\n",
              "    <tr>\n",
              "      <th>453</th>\n",
              "      <td>454</td>\n",
              "      <td>Cranidos</td>\n",
              "      <td>Rock</td>\n",
              "      <td>NaN</td>\n",
              "      <td>67</td>\n",
              "      <td>125</td>\n",
              "      <td>40</td>\n",
              "      <td>30</td>\n",
              "      <td>30</td>\n",
              "      <td>58</td>\n",
              "      <td>False</td>\n",
              "    </tr>\n",
              "    <tr>\n",
              "      <th>454</th>\n",
              "      <td>455</td>\n",
              "      <td>Rampardos</td>\n",
              "      <td>Rock</td>\n",
              "      <td>NaN</td>\n",
              "      <td>97</td>\n",
              "      <td>165</td>\n",
              "      <td>60</td>\n",
              "      <td>65</td>\n",
              "      <td>50</td>\n",
              "      <td>58</td>\n",
              "      <td>False</td>\n",
              "    </tr>\n",
              "    <tr>\n",
              "      <th>455</th>\n",
              "      <td>456</td>\n",
              "      <td>Shieldon</td>\n",
              "      <td>Rock</td>\n",
              "      <td>Steel</td>\n",
              "      <td>30</td>\n",
              "      <td>42</td>\n",
              "      <td>118</td>\n",
              "      <td>42</td>\n",
              "      <td>88</td>\n",
              "      <td>30</td>\n",
              "      <td>False</td>\n",
              "    </tr>\n",
              "    <tr>\n",
              "      <th>456</th>\n",
              "      <td>457</td>\n",
              "      <td>Bastiodon</td>\n",
              "      <td>Rock</td>\n",
              "      <td>Steel</td>\n",
              "      <td>60</td>\n",
              "      <td>52</td>\n",
              "      <td>168</td>\n",
              "      <td>47</td>\n",
              "      <td>138</td>\n",
              "      <td>30</td>\n",
              "      <td>False</td>\n",
              "    </tr>\n",
              "    <tr>\n",
              "      <th>486</th>\n",
              "      <td>487</td>\n",
              "      <td>Bonsly</td>\n",
              "      <td>Rock</td>\n",
              "      <td>NaN</td>\n",
              "      <td>50</td>\n",
              "      <td>80</td>\n",
              "      <td>95</td>\n",
              "      <td>10</td>\n",
              "      <td>45</td>\n",
              "      <td>10</td>\n",
              "      <td>False</td>\n",
              "    </tr>\n",
              "    <tr>\n",
              "      <th>515</th>\n",
              "      <td>516</td>\n",
              "      <td>Rhyperior</td>\n",
              "      <td>Ground</td>\n",
              "      <td>Rock</td>\n",
              "      <td>115</td>\n",
              "      <td>140</td>\n",
              "      <td>130</td>\n",
              "      <td>55</td>\n",
              "      <td>55</td>\n",
              "      <td>40</td>\n",
              "      <td>False</td>\n",
              "    </tr>\n",
              "    <tr>\n",
              "      <th>528</th>\n",
              "      <td>529</td>\n",
              "      <td>Probopass</td>\n",
              "      <td>Rock</td>\n",
              "      <td>Steel</td>\n",
              "      <td>60</td>\n",
              "      <td>55</td>\n",
              "      <td>145</td>\n",
              "      <td>75</td>\n",
              "      <td>150</td>\n",
              "      <td>40</td>\n",
              "      <td>False</td>\n",
              "    </tr>\n",
              "    <tr>\n",
              "      <th>583</th>\n",
              "      <td>584</td>\n",
              "      <td>Roggenrola</td>\n",
              "      <td>Rock</td>\n",
              "      <td>NaN</td>\n",
              "      <td>55</td>\n",
              "      <td>75</td>\n",
              "      <td>85</td>\n",
              "      <td>25</td>\n",
              "      <td>25</td>\n",
              "      <td>15</td>\n",
              "      <td>False</td>\n",
              "    </tr>\n",
              "    <tr>\n",
              "      <th>584</th>\n",
              "      <td>585</td>\n",
              "      <td>Boldore</td>\n",
              "      <td>Rock</td>\n",
              "      <td>NaN</td>\n",
              "      <td>70</td>\n",
              "      <td>105</td>\n",
              "      <td>105</td>\n",
              "      <td>50</td>\n",
              "      <td>40</td>\n",
              "      <td>20</td>\n",
              "      <td>False</td>\n",
              "    </tr>\n",
              "    <tr>\n",
              "      <th>585</th>\n",
              "      <td>586</td>\n",
              "      <td>Gigalith</td>\n",
              "      <td>Rock</td>\n",
              "      <td>NaN</td>\n",
              "      <td>85</td>\n",
              "      <td>135</td>\n",
              "      <td>130</td>\n",
              "      <td>60</td>\n",
              "      <td>80</td>\n",
              "      <td>25</td>\n",
              "      <td>False</td>\n",
              "    </tr>\n",
              "    <tr>\n",
              "      <th>618</th>\n",
              "      <td>619</td>\n",
              "      <td>Dwebble</td>\n",
              "      <td>Bug</td>\n",
              "      <td>Rock</td>\n",
              "      <td>50</td>\n",
              "      <td>65</td>\n",
              "      <td>85</td>\n",
              "      <td>35</td>\n",
              "      <td>35</td>\n",
              "      <td>55</td>\n",
              "      <td>False</td>\n",
              "    </tr>\n",
              "    <tr>\n",
              "      <th>619</th>\n",
              "      <td>620</td>\n",
              "      <td>Crustle</td>\n",
              "      <td>Bug</td>\n",
              "      <td>Rock</td>\n",
              "      <td>70</td>\n",
              "      <td>95</td>\n",
              "      <td>125</td>\n",
              "      <td>65</td>\n",
              "      <td>75</td>\n",
              "      <td>45</td>\n",
              "      <td>False</td>\n",
              "    </tr>\n",
              "    <tr>\n",
              "      <th>625</th>\n",
              "      <td>626</td>\n",
              "      <td>Tirtouga</td>\n",
              "      <td>Water</td>\n",
              "      <td>Rock</td>\n",
              "      <td>54</td>\n",
              "      <td>78</td>\n",
              "      <td>103</td>\n",
              "      <td>53</td>\n",
              "      <td>45</td>\n",
              "      <td>22</td>\n",
              "      <td>False</td>\n",
              "    </tr>\n",
              "    <tr>\n",
              "      <th>626</th>\n",
              "      <td>627</td>\n",
              "      <td>Carracosta</td>\n",
              "      <td>Water</td>\n",
              "      <td>Rock</td>\n",
              "      <td>74</td>\n",
              "      <td>108</td>\n",
              "      <td>133</td>\n",
              "      <td>83</td>\n",
              "      <td>65</td>\n",
              "      <td>32</td>\n",
              "      <td>False</td>\n",
              "    </tr>\n",
              "    <tr>\n",
              "      <th>627</th>\n",
              "      <td>628</td>\n",
              "      <td>Archen</td>\n",
              "      <td>Rock</td>\n",
              "      <td>Flying</td>\n",
              "      <td>55</td>\n",
              "      <td>112</td>\n",
              "      <td>45</td>\n",
              "      <td>74</td>\n",
              "      <td>45</td>\n",
              "      <td>70</td>\n",
              "      <td>False</td>\n",
              "    </tr>\n",
              "    <tr>\n",
              "      <th>628</th>\n",
              "      <td>629</td>\n",
              "      <td>Archeops</td>\n",
              "      <td>Rock</td>\n",
              "      <td>Flying</td>\n",
              "      <td>75</td>\n",
              "      <td>140</td>\n",
              "      <td>65</td>\n",
              "      <td>112</td>\n",
              "      <td>65</td>\n",
              "      <td>110</td>\n",
              "      <td>False</td>\n",
              "    </tr>\n",
              "    <tr>\n",
              "      <th>700</th>\n",
              "      <td>701</td>\n",
              "      <td>Terrakion</td>\n",
              "      <td>Rock</td>\n",
              "      <td>Fighting</td>\n",
              "      <td>91</td>\n",
              "      <td>129</td>\n",
              "      <td>90</td>\n",
              "      <td>72</td>\n",
              "      <td>90</td>\n",
              "      <td>108</td>\n",
              "      <td>True</td>\n",
              "    </tr>\n",
              "    <tr>\n",
              "      <th>758</th>\n",
              "      <td>759</td>\n",
              "      <td>Binacle</td>\n",
              "      <td>Rock</td>\n",
              "      <td>Water</td>\n",
              "      <td>42</td>\n",
              "      <td>52</td>\n",
              "      <td>67</td>\n",
              "      <td>39</td>\n",
              "      <td>56</td>\n",
              "      <td>50</td>\n",
              "      <td>False</td>\n",
              "    </tr>\n",
              "    <tr>\n",
              "      <th>759</th>\n",
              "      <td>760</td>\n",
              "      <td>Barbaracle</td>\n",
              "      <td>Rock</td>\n",
              "      <td>Water</td>\n",
              "      <td>72</td>\n",
              "      <td>105</td>\n",
              "      <td>115</td>\n",
              "      <td>54</td>\n",
              "      <td>86</td>\n",
              "      <td>68</td>\n",
              "      <td>False</td>\n",
              "    </tr>\n",
              "    <tr>\n",
              "      <th>766</th>\n",
              "      <td>767</td>\n",
              "      <td>Tyrunt</td>\n",
              "      <td>Rock</td>\n",
              "      <td>Dragon</td>\n",
              "      <td>58</td>\n",
              "      <td>89</td>\n",
              "      <td>77</td>\n",
              "      <td>45</td>\n",
              "      <td>45</td>\n",
              "      <td>48</td>\n",
              "      <td>False</td>\n",
              "    </tr>\n",
              "    <tr>\n",
              "      <th>767</th>\n",
              "      <td>768</td>\n",
              "      <td>Tyrantrum</td>\n",
              "      <td>Rock</td>\n",
              "      <td>Dragon</td>\n",
              "      <td>82</td>\n",
              "      <td>121</td>\n",
              "      <td>119</td>\n",
              "      <td>69</td>\n",
              "      <td>59</td>\n",
              "      <td>71</td>\n",
              "      <td>False</td>\n",
              "    </tr>\n",
              "    <tr>\n",
              "      <th>768</th>\n",
              "      <td>769</td>\n",
              "      <td>Amaura</td>\n",
              "      <td>Rock</td>\n",
              "      <td>Ice</td>\n",
              "      <td>77</td>\n",
              "      <td>59</td>\n",
              "      <td>50</td>\n",
              "      <td>67</td>\n",
              "      <td>63</td>\n",
              "      <td>46</td>\n",
              "      <td>False</td>\n",
              "    </tr>\n",
              "    <tr>\n",
              "      <th>769</th>\n",
              "      <td>770</td>\n",
              "      <td>Aurorus</td>\n",
              "      <td>Rock</td>\n",
              "      <td>Ice</td>\n",
              "      <td>123</td>\n",
              "      <td>77</td>\n",
              "      <td>72</td>\n",
              "      <td>99</td>\n",
              "      <td>92</td>\n",
              "      <td>58</td>\n",
              "      <td>False</td>\n",
              "    </tr>\n",
              "    <tr>\n",
              "      <th>773</th>\n",
              "      <td>774</td>\n",
              "      <td>Carbink</td>\n",
              "      <td>Rock</td>\n",
              "      <td>Fairy</td>\n",
              "      <td>50</td>\n",
              "      <td>50</td>\n",
              "      <td>150</td>\n",
              "      <td>50</td>\n",
              "      <td>150</td>\n",
              "      <td>50</td>\n",
              "      <td>False</td>\n",
              "    </tr>\n",
              "    <tr>\n",
              "      <th>795</th>\n",
              "      <td>796</td>\n",
              "      <td>Diancie</td>\n",
              "      <td>Rock</td>\n",
              "      <td>Fairy</td>\n",
              "      <td>50</td>\n",
              "      <td>100</td>\n",
              "      <td>150</td>\n",
              "      <td>100</td>\n",
              "      <td>150</td>\n",
              "      <td>50</td>\n",
              "      <td>True</td>\n",
              "    </tr>\n",
              "    <tr>\n",
              "      <th>796</th>\n",
              "      <td>797</td>\n",
              "      <td>Mega Diancie</td>\n",
              "      <td>Rock</td>\n",
              "      <td>Fairy</td>\n",
              "      <td>50</td>\n",
              "      <td>160</td>\n",
              "      <td>110</td>\n",
              "      <td>160</td>\n",
              "      <td>110</td>\n",
              "      <td>110</td>\n",
              "      <td>True</td>\n",
              "    </tr>\n",
              "  </tbody>\n",
              "</table>\n",
              "</div>\n",
              "      <button class=\"colab-df-convert\" onclick=\"convertToInteractive('df-0adb119d-20da-4ad1-a0b4-c2f7bcba20fd')\"\n",
              "              title=\"Convert this dataframe to an interactive table.\"\n",
              "              style=\"display:none;\">\n",
              "        \n",
              "  <svg xmlns=\"http://www.w3.org/2000/svg\" height=\"24px\"viewBox=\"0 0 24 24\"\n",
              "       width=\"24px\">\n",
              "    <path d=\"M0 0h24v24H0V0z\" fill=\"none\"/>\n",
              "    <path d=\"M18.56 5.44l.94 2.06.94-2.06 2.06-.94-2.06-.94-.94-2.06-.94 2.06-2.06.94zm-11 1L8.5 8.5l.94-2.06 2.06-.94-2.06-.94L8.5 2.5l-.94 2.06-2.06.94zm10 10l.94 2.06.94-2.06 2.06-.94-2.06-.94-.94-2.06-.94 2.06-2.06.94z\"/><path d=\"M17.41 7.96l-1.37-1.37c-.4-.4-.92-.59-1.43-.59-.52 0-1.04.2-1.43.59L10.3 9.45l-7.72 7.72c-.78.78-.78 2.05 0 2.83L4 21.41c.39.39.9.59 1.41.59.51 0 1.02-.2 1.41-.59l7.78-7.78 2.81-2.81c.8-.78.8-2.07 0-2.86zM5.41 20L4 18.59l7.72-7.72 1.47 1.35L5.41 20z\"/>\n",
              "  </svg>\n",
              "      </button>\n",
              "      \n",
              "  <style>\n",
              "    .colab-df-container {\n",
              "      display:flex;\n",
              "      flex-wrap:wrap;\n",
              "      gap: 12px;\n",
              "    }\n",
              "\n",
              "    .colab-df-convert {\n",
              "      background-color: #E8F0FE;\n",
              "      border: none;\n",
              "      border-radius: 50%;\n",
              "      cursor: pointer;\n",
              "      display: none;\n",
              "      fill: #1967D2;\n",
              "      height: 32px;\n",
              "      padding: 0 0 0 0;\n",
              "      width: 32px;\n",
              "    }\n",
              "\n",
              "    .colab-df-convert:hover {\n",
              "      background-color: #E2EBFA;\n",
              "      box-shadow: 0px 1px 2px rgba(60, 64, 67, 0.3), 0px 1px 3px 1px rgba(60, 64, 67, 0.15);\n",
              "      fill: #174EA6;\n",
              "    }\n",
              "\n",
              "    [theme=dark] .colab-df-convert {\n",
              "      background-color: #3B4455;\n",
              "      fill: #D2E3FC;\n",
              "    }\n",
              "\n",
              "    [theme=dark] .colab-df-convert:hover {\n",
              "      background-color: #434B5C;\n",
              "      box-shadow: 0px 1px 3px 1px rgba(0, 0, 0, 0.15);\n",
              "      filter: drop-shadow(0px 1px 2px rgba(0, 0, 0, 0.3));\n",
              "      fill: #FFFFFF;\n",
              "    }\n",
              "  </style>\n",
              "\n",
              "      <script>\n",
              "        const buttonEl =\n",
              "          document.querySelector('#df-0adb119d-20da-4ad1-a0b4-c2f7bcba20fd button.colab-df-convert');\n",
              "        buttonEl.style.display =\n",
              "          google.colab.kernel.accessAllowed ? 'block' : 'none';\n",
              "\n",
              "        async function convertToInteractive(key) {\n",
              "          const element = document.querySelector('#df-0adb119d-20da-4ad1-a0b4-c2f7bcba20fd');\n",
              "          const dataTable =\n",
              "            await google.colab.kernel.invokeFunction('convertToInteractive',\n",
              "                                                     [key], {});\n",
              "          if (!dataTable) return;\n",
              "\n",
              "          const docLinkHtml = 'Like what you see? Visit the ' +\n",
              "            '<a target=\"_blank\" href=https://colab.research.google.com/notebooks/data_table.ipynb>data table notebook</a>'\n",
              "            + ' to learn more about interactive tables.';\n",
              "          element.innerHTML = '';\n",
              "          dataTable['output_type'] = 'display_data';\n",
              "          await google.colab.output.renderOutput(dataTable, element);\n",
              "          const docLink = document.createElement('div');\n",
              "          docLink.innerHTML = docLinkHtml;\n",
              "          element.appendChild(docLink);\n",
              "        }\n",
              "      </script>\n",
              "    </div>\n",
              "  </div>\n",
              "  "
            ],
            "text/plain": [
              "     pid             Name Class 1   Class 2  ...  Sp. Atk  Sp. Def  Speed  Legendary\n",
              "80    81          Geodude    Rock    Ground  ...       30       30     20      False\n",
              "81    82         Graveler    Rock    Ground  ...       45       45     35      False\n",
              "82    83            Golem    Rock    Ground  ...       55       65     45      False\n",
              "103  104             Onix    Rock    Ground  ...       30       45     70      False\n",
              "119  120          Rhyhorn  Ground      Rock  ...       30       30     25      False\n",
              "120  121           Rhydon  Ground      Rock  ...       45       45     40      False\n",
              "149  150          Omanyte    Rock     Water  ...       90       55     35      False\n",
              "150  151          Omastar    Rock     Water  ...      115       70     55      False\n",
              "151  152           Kabuto    Rock     Water  ...       55       45     55      False\n",
              "152  153         Kabutops    Rock     Water  ...       65       70     80      False\n",
              "153  154       Aerodactyl    Rock    Flying  ...       60       75    130      False\n",
              "154  155  Mega Aerodactyl    Rock    Flying  ...       70       95    150      False\n",
              "200  201        Sudowoodo    Rock       NaN  ...       30       65     30      False\n",
              "230  231          Shuckle     Bug      Rock  ...       10      230      5      False\n",
              "237  238         Magcargo    Fire      Rock  ...       80       80     30      False\n",
              "240  241          Corsola   Water      Rock  ...       65       85     35      False\n",
              "265  266         Larvitar    Rock    Ground  ...       45       50     41      False\n",
              "266  267          Pupitar    Rock    Ground  ...       65       70     51      False\n",
              "267  268        Tyranitar    Rock      Dark  ...       95      100     61      False\n",
              "268  269   Mega Tyranitar    Rock      Dark  ...       95      120     71      False\n",
              "323  324         Nosepass    Rock       NaN  ...       45       90     30      False\n",
              "330  331             Aron   Steel      Rock  ...       40       40     30      False\n",
              "331  332           Lairon   Steel      Rock  ...       50       50     40      False\n",
              "332  333           Aggron   Steel      Rock  ...       60       60     50      False\n",
              "369  370         Lunatone    Rock   Psychic  ...       95       85     70      False\n",
              "370  371          Solrock    Rock   Psychic  ...       55       65     70      False\n",
              "377  378           Lileep    Rock     Grass  ...       61       87     23      False\n",
              "378  379          Cradily    Rock     Grass  ...       81      107     43      False\n",
              "379  380          Anorith    Rock       Bug  ...       40       50     75      False\n",
              "380  381          Armaldo    Rock       Bug  ...       70       80     45      False\n",
              "404  405        Relicanth   Water      Rock  ...       45       65     55      False\n",
              "414  415         Regirock    Rock       NaN  ...       50      100     50       True\n",
              "453  454         Cranidos    Rock       NaN  ...       30       30     58      False\n",
              "454  455        Rampardos    Rock       NaN  ...       65       50     58      False\n",
              "455  456         Shieldon    Rock     Steel  ...       42       88     30      False\n",
              "456  457        Bastiodon    Rock     Steel  ...       47      138     30      False\n",
              "486  487           Bonsly    Rock       NaN  ...       10       45     10      False\n",
              "515  516        Rhyperior  Ground      Rock  ...       55       55     40      False\n",
              "528  529        Probopass    Rock     Steel  ...       75      150     40      False\n",
              "583  584       Roggenrola    Rock       NaN  ...       25       25     15      False\n",
              "584  585          Boldore    Rock       NaN  ...       50       40     20      False\n",
              "585  586         Gigalith    Rock       NaN  ...       60       80     25      False\n",
              "618  619          Dwebble     Bug      Rock  ...       35       35     55      False\n",
              "619  620          Crustle     Bug      Rock  ...       65       75     45      False\n",
              "625  626         Tirtouga   Water      Rock  ...       53       45     22      False\n",
              "626  627       Carracosta   Water      Rock  ...       83       65     32      False\n",
              "627  628           Archen    Rock    Flying  ...       74       45     70      False\n",
              "628  629         Archeops    Rock    Flying  ...      112       65    110      False\n",
              "700  701        Terrakion    Rock  Fighting  ...       72       90    108       True\n",
              "758  759          Binacle    Rock     Water  ...       39       56     50      False\n",
              "759  760       Barbaracle    Rock     Water  ...       54       86     68      False\n",
              "766  767           Tyrunt    Rock    Dragon  ...       45       45     48      False\n",
              "767  768        Tyrantrum    Rock    Dragon  ...       69       59     71      False\n",
              "768  769           Amaura    Rock       Ice  ...       67       63     46      False\n",
              "769  770          Aurorus    Rock       Ice  ...       99       92     58      False\n",
              "773  774          Carbink    Rock     Fairy  ...       50      150     50      False\n",
              "795  796          Diancie    Rock     Fairy  ...      100      150     50       True\n",
              "796  797     Mega Diancie    Rock     Fairy  ...      160      110    110       True\n",
              "\n",
              "[58 rows x 11 columns]"
            ]
          },
          "metadata": {},
          "execution_count": 163
        }
      ]
    },
    {
      "cell_type": "code",
      "source": [
        "pokemon_Ground = pokemon[(pokemon['Class 1'] == 'Ground') |(pokemon['Class 2'] == 'Ground') ]['Defense']\n",
        "pokemon_Ground.describe()"
      ],
      "metadata": {
        "colab": {
          "base_uri": "https://localhost:8080/"
        },
        "id": "-IRPNW1K-6SA",
        "outputId": "c1f6da17-84f7-4d8a-ef6f-e96745260a1e"
      },
      "execution_count": null,
      "outputs": [
        {
          "output_type": "execute_result",
          "data": {
            "text/plain": [
              "count     67.000000\n",
              "mean      87.701493\n",
              "std       37.909388\n",
              "min       25.000000\n",
              "25%       60.000000\n",
              "50%       84.000000\n",
              "75%      107.500000\n",
              "max      230.000000\n",
              "Name: Defense, dtype: float64"
            ]
          },
          "metadata": {},
          "execution_count": 148
        }
      ]
    },
    {
      "cell_type": "code",
      "source": [
        "pokemon_Steel = pokemon[(pokemon['Class 1'] == 'Steel') |(pokemon['Class 2'] == 'Steel') ]['Defense']\n",
        "pokemon_Steel.describe()"
      ],
      "metadata": {
        "colab": {
          "base_uri": "https://localhost:8080/"
        },
        "id": "JFyLBHnZ-_az",
        "outputId": "2670a237-46f1-46eb-8f27-2c46cf119d1a"
      },
      "execution_count": null,
      "outputs": [
        {
          "output_type": "execute_result",
          "data": {
            "text/plain": [
              "count     49.000000\n",
              "mean     116.612245\n",
              "std       39.200243\n",
              "min       50.000000\n",
              "25%       91.000000\n",
              "50%      106.000000\n",
              "75%      140.000000\n",
              "max      230.000000\n",
              "Name: Defense, dtype: float64"
            ]
          },
          "metadata": {},
          "execution_count": 149
        }
      ]
    },
    {
      "cell_type": "code",
      "source": [
        "pokemon_Ice = pokemon[(pokemon['Class 1'] == 'Ice') |(pokemon['Class 2'] == 'Ice') ]['Defense']\n",
        "pokemon_Ice.describe()"
      ],
      "metadata": {
        "colab": {
          "base_uri": "https://localhost:8080/"
        },
        "id": "-c5IFwCi_F-V",
        "outputId": "981fef5c-c0e7-4d21-a7b3-e58809eb0fb8"
      },
      "execution_count": null,
      "outputs": [
        {
          "output_type": "execute_result",
          "data": {
            "text/plain": [
              "count     38.000000\n",
              "mean      76.657895\n",
              "std       34.183350\n",
              "min       15.000000\n",
              "25%       50.000000\n",
              "50%       80.000000\n",
              "75%       90.000000\n",
              "max      184.000000\n",
              "Name: Defense, dtype: float64"
            ]
          },
          "metadata": {},
          "execution_count": 150
        }
      ]
    },
    {
      "cell_type": "code",
      "source": [
        "# Применем дисперсионный анализ для выявления различий между группами. Н0: нет статистически значимых отличий\n",
        "stat, p_value = stats.f_oneway(pokemon_Rock,pokemon_Ground, pokemon_Steel, pokemon_Ice )\n",
        "\n",
        "p_value\n",
        "\n",
        "# На уровне значимости 5% отклоняем Н0, различия статистические есть в уровне защиты покемонов"
      ],
      "metadata": {
        "colab": {
          "base_uri": "https://localhost:8080/"
        },
        "id": "rkwPSdqd_KuY",
        "outputId": "a606ec40-092f-48de-ad51-553f67ace188"
      },
      "execution_count": null,
      "outputs": [
        {
          "output_type": "execute_result",
          "data": {
            "text/plain": [
              "1.231528168152447e-06"
            ]
          },
          "metadata": {},
          "execution_count": 152
        }
      ]
    }
  ]
}